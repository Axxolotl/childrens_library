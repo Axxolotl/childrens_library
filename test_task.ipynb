{
 "cells": [
  {
   "cell_type": "code",
   "execution_count": 1,
   "id": "acdc4813",
   "metadata": {},
   "outputs": [],
   "source": [
    "import pandas as pd\n",
    "import numpy as np\n",
    "\n",
    "# графики\n",
    "import matplotlib.pyplot as plt\n",
    "import seaborn as sns\n",
    "plt.rc('figure', figsize=(15,7))\n",
    "\n",
    "import ast"
   ]
  },
  {
   "cell_type": "markdown",
   "id": "eb5dfd84",
   "metadata": {},
   "source": [
    "## Импорт датафрейма и первый взгляд на данные:"
   ]
  },
  {
   "cell_type": "code",
   "execution_count": 2,
   "id": "f02f451b",
   "metadata": {},
   "outputs": [
    {
     "data": {
      "text/html": [
       "<div>\n",
       "<style scoped>\n",
       "    .dataframe tbody tr th:only-of-type {\n",
       "        vertical-align: middle;\n",
       "    }\n",
       "\n",
       "    .dataframe tbody tr th {\n",
       "        vertical-align: top;\n",
       "    }\n",
       "\n",
       "    .dataframe thead th {\n",
       "        text-align: right;\n",
       "    }\n",
       "</style>\n",
       "<table border=\"1\" class=\"dataframe\">\n",
       "  <thead>\n",
       "    <tr style=\"text-align: right;\">\n",
       "      <th></th>\n",
       "      <th>profile_id</th>\n",
       "      <th>os_version</th>\n",
       "      <th>device_manufacturer</th>\n",
       "      <th>device_model</th>\n",
       "      <th>device_type</th>\n",
       "      <th>device_locale</th>\n",
       "      <th>event_name</th>\n",
       "      <th>event_json</th>\n",
       "      <th>event_datetime</th>\n",
       "      <th>event_timestamp</th>\n",
       "      <th>event_receive_datetime</th>\n",
       "      <th>event_receive_timestamp</th>\n",
       "      <th>connection_type</th>\n",
       "      <th>operator_name</th>\n",
       "      <th>country_iso_code</th>\n",
       "      <th>city</th>\n",
       "    </tr>\n",
       "  </thead>\n",
       "  <tbody>\n",
       "    <tr>\n",
       "      <th>0</th>\n",
       "      <td>JLjpGzDHBQm</td>\n",
       "      <td>11</td>\n",
       "      <td>Samsung</td>\n",
       "      <td>Galaxy Tab S6</td>\n",
       "      <td>tablet</td>\n",
       "      <td>en_US</td>\n",
       "      <td>c_ad_revenue</td>\n",
       "      <td>{\"ad_type\":\"banner\",\"placement\":\"\",\"view_index...</td>\n",
       "      <td>2022-02-04 20:02:28</td>\n",
       "      <td>1643994148</td>\n",
       "      <td>2022-02-06 17:58:19</td>\n",
       "      <td>1644159499</td>\n",
       "      <td>wifi</td>\n",
       "      <td>NaN</td>\n",
       "      <td>US</td>\n",
       "      <td>Norwalk</td>\n",
       "    </tr>\n",
       "    <tr>\n",
       "      <th>1</th>\n",
       "      <td>JLjpGzDHBQm</td>\n",
       "      <td>11</td>\n",
       "      <td>Samsung</td>\n",
       "      <td>Galaxy Tab S6</td>\n",
       "      <td>tablet</td>\n",
       "      <td>en_US</td>\n",
       "      <td>c_ad_revenue</td>\n",
       "      <td>{\"ad_type\":\"banner\",\"placement\":\"\",\"view_index...</td>\n",
       "      <td>2022-02-04 20:02:45</td>\n",
       "      <td>1643994165</td>\n",
       "      <td>2022-02-06 17:58:19</td>\n",
       "      <td>1644159499</td>\n",
       "      <td>wifi</td>\n",
       "      <td>NaN</td>\n",
       "      <td>US</td>\n",
       "      <td>Norwalk</td>\n",
       "    </tr>\n",
       "    <tr>\n",
       "      <th>2</th>\n",
       "      <td>JLkVacrzHY6</td>\n",
       "      <td>11</td>\n",
       "      <td>Google</td>\n",
       "      <td>Pixel 2</td>\n",
       "      <td>phone</td>\n",
       "      <td>en_US</td>\n",
       "      <td>c_ad_revenue</td>\n",
       "      <td>{\"ad_type\":\"banner\",\"placement\":\"\",\"view_index...</td>\n",
       "      <td>2022-02-05 17:53:05</td>\n",
       "      <td>1644072785</td>\n",
       "      <td>2022-02-06 16:59:29</td>\n",
       "      <td>1644155969</td>\n",
       "      <td>wifi</td>\n",
       "      <td>Verizon</td>\n",
       "      <td>US</td>\n",
       "      <td>Charlotte</td>\n",
       "    </tr>\n",
       "    <tr>\n",
       "      <th>3</th>\n",
       "      <td>JMC6wG3cX0f</td>\n",
       "      <td>10</td>\n",
       "      <td>Samsung</td>\n",
       "      <td>Galaxy S9</td>\n",
       "      <td>phone</td>\n",
       "      <td>en_US</td>\n",
       "      <td>c_ad_revenue</td>\n",
       "      <td>{\"ad_type\":\"int\",\"placement\":\"next_level\",\"vie...</td>\n",
       "      <td>2022-02-06 17:09:01</td>\n",
       "      <td>1644156541</td>\n",
       "      <td>2022-02-06 17:09:24</td>\n",
       "      <td>1644156564</td>\n",
       "      <td>wifi</td>\n",
       "      <td>T-Mobile</td>\n",
       "      <td>US</td>\n",
       "      <td>Cocoa</td>\n",
       "    </tr>\n",
       "    <tr>\n",
       "      <th>4</th>\n",
       "      <td>JLzWWTJfi1b</td>\n",
       "      <td>10</td>\n",
       "      <td>Samsung</td>\n",
       "      <td>Galaxy S9</td>\n",
       "      <td>phone</td>\n",
       "      <td>en_US</td>\n",
       "      <td>c_ad_revenue</td>\n",
       "      <td>{\"ad_type\":\"banner\",\"placement\":\"\",\"view_index...</td>\n",
       "      <td>2022-02-06 17:15:38</td>\n",
       "      <td>1644156938</td>\n",
       "      <td>2022-02-06 17:16:16</td>\n",
       "      <td>1644156976</td>\n",
       "      <td>cell</td>\n",
       "      <td>Verizon</td>\n",
       "      <td>US</td>\n",
       "      <td>NaN</td>\n",
       "    </tr>\n",
       "  </tbody>\n",
       "</table>\n",
       "</div>"
      ],
      "text/plain": [
       "    profile_id os_version device_manufacturer   device_model device_type  \\\n",
       "0  JLjpGzDHBQm         11             Samsung  Galaxy Tab S6      tablet   \n",
       "1  JLjpGzDHBQm         11             Samsung  Galaxy Tab S6      tablet   \n",
       "2  JLkVacrzHY6         11              Google        Pixel 2       phone   \n",
       "3  JMC6wG3cX0f         10             Samsung      Galaxy S9       phone   \n",
       "4  JLzWWTJfi1b         10             Samsung      Galaxy S9       phone   \n",
       "\n",
       "  device_locale    event_name  \\\n",
       "0         en_US  c_ad_revenue   \n",
       "1         en_US  c_ad_revenue   \n",
       "2         en_US  c_ad_revenue   \n",
       "3         en_US  c_ad_revenue   \n",
       "4         en_US  c_ad_revenue   \n",
       "\n",
       "                                          event_json       event_datetime  \\\n",
       "0  {\"ad_type\":\"banner\",\"placement\":\"\",\"view_index...  2022-02-04 20:02:28   \n",
       "1  {\"ad_type\":\"banner\",\"placement\":\"\",\"view_index...  2022-02-04 20:02:45   \n",
       "2  {\"ad_type\":\"banner\",\"placement\":\"\",\"view_index...  2022-02-05 17:53:05   \n",
       "3  {\"ad_type\":\"int\",\"placement\":\"next_level\",\"vie...  2022-02-06 17:09:01   \n",
       "4  {\"ad_type\":\"banner\",\"placement\":\"\",\"view_index...  2022-02-06 17:15:38   \n",
       "\n",
       "   event_timestamp event_receive_datetime  event_receive_timestamp  \\\n",
       "0       1643994148    2022-02-06 17:58:19               1644159499   \n",
       "1       1643994165    2022-02-06 17:58:19               1644159499   \n",
       "2       1644072785    2022-02-06 16:59:29               1644155969   \n",
       "3       1644156541    2022-02-06 17:09:24               1644156564   \n",
       "4       1644156938    2022-02-06 17:16:16               1644156976   \n",
       "\n",
       "  connection_type operator_name country_iso_code       city  \n",
       "0            wifi           NaN               US    Norwalk  \n",
       "1            wifi           NaN               US    Norwalk  \n",
       "2            wifi       Verizon               US  Charlotte  \n",
       "3            wifi      T-Mobile               US      Cocoa  \n",
       "4            cell      Verizon                US        NaN  "
      ]
     },
     "execution_count": 2,
     "metadata": {},
     "output_type": "execute_result"
    }
   ],
   "source": [
    "df = pd.read_csv('us events ad_revenue filtered 03.02-07.02.csv')\n",
    "df.head()"
   ]
  },
  {
   "cell_type": "code",
   "execution_count": 3,
   "id": "b89b82cc",
   "metadata": {},
   "outputs": [
    {
     "data": {
      "text/plain": [
       "(860079, 16)"
      ]
     },
     "execution_count": 3,
     "metadata": {},
     "output_type": "execute_result"
    }
   ],
   "source": [
    "df.shape"
   ]
  },
  {
   "cell_type": "code",
   "execution_count": 4,
   "id": "3ba183bc",
   "metadata": {},
   "outputs": [
    {
     "data": {
      "text/html": [
       "<div>\n",
       "<style scoped>\n",
       "    .dataframe tbody tr th:only-of-type {\n",
       "        vertical-align: middle;\n",
       "    }\n",
       "\n",
       "    .dataframe tbody tr th {\n",
       "        vertical-align: top;\n",
       "    }\n",
       "\n",
       "    .dataframe thead th {\n",
       "        text-align: right;\n",
       "    }\n",
       "</style>\n",
       "<table border=\"1\" class=\"dataframe\">\n",
       "  <thead>\n",
       "    <tr style=\"text-align: right;\">\n",
       "      <th></th>\n",
       "      <th>columns</th>\n",
       "      <th>total_missing</th>\n",
       "      <th>%%%</th>\n",
       "    </tr>\n",
       "  </thead>\n",
       "  <tbody>\n",
       "    <tr>\n",
       "      <th>0</th>\n",
       "      <td>profile_id</td>\n",
       "      <td>14</td>\n",
       "      <td>0.001628</td>\n",
       "    </tr>\n",
       "    <tr>\n",
       "      <th>1</th>\n",
       "      <td>os_version</td>\n",
       "      <td>0</td>\n",
       "      <td>0.000000</td>\n",
       "    </tr>\n",
       "    <tr>\n",
       "      <th>2</th>\n",
       "      <td>device_manufacturer</td>\n",
       "      <td>0</td>\n",
       "      <td>0.000000</td>\n",
       "    </tr>\n",
       "    <tr>\n",
       "      <th>3</th>\n",
       "      <td>device_model</td>\n",
       "      <td>0</td>\n",
       "      <td>0.000000</td>\n",
       "    </tr>\n",
       "    <tr>\n",
       "      <th>4</th>\n",
       "      <td>device_type</td>\n",
       "      <td>0</td>\n",
       "      <td>0.000000</td>\n",
       "    </tr>\n",
       "    <tr>\n",
       "      <th>5</th>\n",
       "      <td>device_locale</td>\n",
       "      <td>0</td>\n",
       "      <td>0.000000</td>\n",
       "    </tr>\n",
       "    <tr>\n",
       "      <th>6</th>\n",
       "      <td>event_name</td>\n",
       "      <td>0</td>\n",
       "      <td>0.000000</td>\n",
       "    </tr>\n",
       "    <tr>\n",
       "      <th>7</th>\n",
       "      <td>event_json</td>\n",
       "      <td>0</td>\n",
       "      <td>0.000000</td>\n",
       "    </tr>\n",
       "    <tr>\n",
       "      <th>8</th>\n",
       "      <td>event_datetime</td>\n",
       "      <td>0</td>\n",
       "      <td>0.000000</td>\n",
       "    </tr>\n",
       "    <tr>\n",
       "      <th>9</th>\n",
       "      <td>event_timestamp</td>\n",
       "      <td>0</td>\n",
       "      <td>0.000000</td>\n",
       "    </tr>\n",
       "    <tr>\n",
       "      <th>10</th>\n",
       "      <td>event_receive_datetime</td>\n",
       "      <td>0</td>\n",
       "      <td>0.000000</td>\n",
       "    </tr>\n",
       "    <tr>\n",
       "      <th>11</th>\n",
       "      <td>event_receive_timestamp</td>\n",
       "      <td>0</td>\n",
       "      <td>0.000000</td>\n",
       "    </tr>\n",
       "    <tr>\n",
       "      <th>12</th>\n",
       "      <td>connection_type</td>\n",
       "      <td>0</td>\n",
       "      <td>0.000000</td>\n",
       "    </tr>\n",
       "    <tr>\n",
       "      <th>13</th>\n",
       "      <td>operator_name</td>\n",
       "      <td>18879</td>\n",
       "      <td>2.195031</td>\n",
       "    </tr>\n",
       "    <tr>\n",
       "      <th>14</th>\n",
       "      <td>country_iso_code</td>\n",
       "      <td>0</td>\n",
       "      <td>0.000000</td>\n",
       "    </tr>\n",
       "    <tr>\n",
       "      <th>15</th>\n",
       "      <td>city</td>\n",
       "      <td>323708</td>\n",
       "      <td>37.637008</td>\n",
       "    </tr>\n",
       "  </tbody>\n",
       "</table>\n",
       "</div>"
      ],
      "text/plain": [
       "                    columns  total_missing        %%%\n",
       "0                profile_id             14   0.001628\n",
       "1                os_version              0   0.000000\n",
       "2       device_manufacturer              0   0.000000\n",
       "3              device_model              0   0.000000\n",
       "4               device_type              0   0.000000\n",
       "5             device_locale              0   0.000000\n",
       "6                event_name              0   0.000000\n",
       "7                event_json              0   0.000000\n",
       "8            event_datetime              0   0.000000\n",
       "9           event_timestamp              0   0.000000\n",
       "10   event_receive_datetime              0   0.000000\n",
       "11  event_receive_timestamp              0   0.000000\n",
       "12          connection_type              0   0.000000\n",
       "13            operator_name          18879   2.195031\n",
       "14         country_iso_code              0   0.000000\n",
       "15                     city         323708  37.637008"
      ]
     },
     "execution_count": 4,
     "metadata": {},
     "output_type": "execute_result"
    }
   ],
   "source": [
    "# Анализ пропущенных значений\n",
    "def na(dfr):\n",
    "    na_df = dfr.isna().sum().reset_index()\n",
    "    na_df = na_df.rename(columns={'index':'columns', 0:'total_missing'})\n",
    "    na_df['%%%'] = na_df['total_missing']*100/dfr.shape[0]\n",
    "    return na_df\n",
    "\n",
    "na(df)"
   ]
  },
  {
   "cell_type": "markdown",
   "id": "c8ba1b2b",
   "metadata": {},
   "source": [
    "## Важная информация содержится в столбце event_json, поэтому разберемся с ним:"
   ]
  },
  {
   "cell_type": "code",
   "execution_count": 5,
   "id": "c6b9424c",
   "metadata": {},
   "outputs": [
    {
     "data": {
      "text/html": [
       "<div>\n",
       "<style scoped>\n",
       "    .dataframe tbody tr th:only-of-type {\n",
       "        vertical-align: middle;\n",
       "    }\n",
       "\n",
       "    .dataframe tbody tr th {\n",
       "        vertical-align: top;\n",
       "    }\n",
       "\n",
       "    .dataframe thead th {\n",
       "        text-align: right;\n",
       "    }\n",
       "</style>\n",
       "<table border=\"1\" class=\"dataframe\">\n",
       "  <thead>\n",
       "    <tr style=\"text-align: right;\">\n",
       "      <th></th>\n",
       "      <th>ad_type</th>\n",
       "      <th>placement</th>\n",
       "      <th>view_index</th>\n",
       "      <th>session_view_index</th>\n",
       "      <th>cur_ticks</th>\n",
       "      <th>session_length</th>\n",
       "      <th>revenue</th>\n",
       "      <th>ads_ltv</th>\n",
       "      <th>ecpm_sma</th>\n",
       "      <th>normalized_ecpm_sma</th>\n",
       "      <th>value</th>\n",
       "      <th>currency</th>\n",
       "      <th>ad_country_code</th>\n",
       "      <th>network_name</th>\n",
       "      <th>ad_unit_id</th>\n",
       "      <th>ad_network_placement</th>\n",
       "      <th>creativeId</th>\n",
       "      <th>ecpm</th>\n",
       "    </tr>\n",
       "  </thead>\n",
       "  <tbody>\n",
       "    <tr>\n",
       "      <th>0</th>\n",
       "      <td>banner</td>\n",
       "      <td></td>\n",
       "      <td>1</td>\n",
       "      <td>0</td>\n",
       "      <td>637795729492245130</td>\n",
       "      <td>705.88070</td>\n",
       "      <td>0.000510</td>\n",
       "      <td>0.487877</td>\n",
       "      <td>0.511508</td>\n",
       "      <td>0.511508</td>\n",
       "      <td>0.000510</td>\n",
       "      <td>USD</td>\n",
       "      <td>US</td>\n",
       "      <td>Google AdMob</td>\n",
       "      <td>64c6b1114ea8c1cc</td>\n",
       "      <td>ca-app-pub-7511632782617496/8825263691</td>\n",
       "      <td>CJ3XirfD5vUCFYPnKAUdG3MOYQ</td>\n",
       "      <td>0.510313</td>\n",
       "    </tr>\n",
       "    <tr>\n",
       "      <th>1</th>\n",
       "      <td>banner</td>\n",
       "      <td></td>\n",
       "      <td>1</td>\n",
       "      <td>0</td>\n",
       "      <td>637795729659949790</td>\n",
       "      <td>722.65120</td>\n",
       "      <td>0.000510</td>\n",
       "      <td>0.488387</td>\n",
       "      <td>0.511389</td>\n",
       "      <td>0.511389</td>\n",
       "      <td>0.000510</td>\n",
       "      <td>USD</td>\n",
       "      <td>US</td>\n",
       "      <td>Google AdMob</td>\n",
       "      <td>64c6b1114ea8c1cc</td>\n",
       "      <td>ca-app-pub-7511632782617496/8825263691</td>\n",
       "      <td>CNa-lL_D5vUCFZrpKAUdU2QBDQ</td>\n",
       "      <td>0.510313</td>\n",
       "    </tr>\n",
       "    <tr>\n",
       "      <th>2</th>\n",
       "      <td>banner</td>\n",
       "      <td></td>\n",
       "      <td>1</td>\n",
       "      <td>0</td>\n",
       "      <td>637796515863735930</td>\n",
       "      <td>431.81290</td>\n",
       "      <td>0.002386</td>\n",
       "      <td>0.678479</td>\n",
       "      <td>0.928597</td>\n",
       "      <td>0.928597</td>\n",
       "      <td>0.002386</td>\n",
       "      <td>USD</td>\n",
       "      <td>US</td>\n",
       "      <td>APPLOVIN_EXCHANGE</td>\n",
       "      <td>64c6b1114ea8c1cc</td>\n",
       "      <td>banner_regular</td>\n",
       "      <td>pandora-58</td>\n",
       "      <td>2.386163</td>\n",
       "    </tr>\n",
       "    <tr>\n",
       "      <th>3</th>\n",
       "      <td>int</td>\n",
       "      <td>next_level</td>\n",
       "      <td>1</td>\n",
       "      <td>1</td>\n",
       "      <td>637797353426827330</td>\n",
       "      <td>125.94960</td>\n",
       "      <td>0.013894</td>\n",
       "      <td>0.013894</td>\n",
       "      <td>13.782633</td>\n",
       "      <td>13.893784</td>\n",
       "      <td>0.013894</td>\n",
       "      <td>USD</td>\n",
       "      <td>US</td>\n",
       "      <td>AppLovin</td>\n",
       "      <td>3ab7705b07ebb75f</td>\n",
       "      <td>inter_regular</td>\n",
       "      <td>13045364</td>\n",
       "      <td>13.893784</td>\n",
       "    </tr>\n",
       "    <tr>\n",
       "      <th>4</th>\n",
       "      <td>banner</td>\n",
       "      <td></td>\n",
       "      <td>1</td>\n",
       "      <td>0</td>\n",
       "      <td>637797357392197840</td>\n",
       "      <td>12.71129</td>\n",
       "      <td>0.006828</td>\n",
       "      <td>0.060571</td>\n",
       "      <td>1.660282</td>\n",
       "      <td>1.660282</td>\n",
       "      <td>0.006828</td>\n",
       "      <td>USD</td>\n",
       "      <td>US</td>\n",
       "      <td>Google AdMob</td>\n",
       "      <td>64c6b1114ea8c1cc</td>\n",
       "      <td>ca-app-pub-7511632782617496/6197324251</td>\n",
       "      <td>CMTi5e-h6_UCFUdVwQodt9EIMw</td>\n",
       "      <td>6.827570</td>\n",
       "    </tr>\n",
       "  </tbody>\n",
       "</table>\n",
       "</div>"
      ],
      "text/plain": [
       "  ad_type   placement  view_index  session_view_index           cur_ticks  \\\n",
       "0  banner                       1                   0  637795729492245130   \n",
       "1  banner                       1                   0  637795729659949790   \n",
       "2  banner                       1                   0  637796515863735930   \n",
       "3     int  next_level           1                   1  637797353426827330   \n",
       "4  banner                       1                   0  637797357392197840   \n",
       "\n",
       "   session_length   revenue   ads_ltv   ecpm_sma  normalized_ecpm_sma  \\\n",
       "0       705.88070  0.000510  0.487877   0.511508             0.511508   \n",
       "1       722.65120  0.000510  0.488387   0.511389             0.511389   \n",
       "2       431.81290  0.002386  0.678479   0.928597             0.928597   \n",
       "3       125.94960  0.013894  0.013894  13.782633            13.893784   \n",
       "4        12.71129  0.006828  0.060571   1.660282             1.660282   \n",
       "\n",
       "      value currency ad_country_code       network_name        ad_unit_id  \\\n",
       "0  0.000510      USD              US       Google AdMob  64c6b1114ea8c1cc   \n",
       "1  0.000510      USD              US       Google AdMob  64c6b1114ea8c1cc   \n",
       "2  0.002386      USD              US  APPLOVIN_EXCHANGE  64c6b1114ea8c1cc   \n",
       "3  0.013894      USD              US           AppLovin  3ab7705b07ebb75f   \n",
       "4  0.006828      USD              US       Google AdMob  64c6b1114ea8c1cc   \n",
       "\n",
       "                     ad_network_placement                  creativeId  \\\n",
       "0  ca-app-pub-7511632782617496/8825263691  CJ3XirfD5vUCFYPnKAUdG3MOYQ   \n",
       "1  ca-app-pub-7511632782617496/8825263691  CNa-lL_D5vUCFZrpKAUdU2QBDQ   \n",
       "2                          banner_regular                  pandora-58   \n",
       "3                           inter_regular                    13045364   \n",
       "4  ca-app-pub-7511632782617496/6197324251  CMTi5e-h6_UCFUdVwQodt9EIMw   \n",
       "\n",
       "        ecpm  \n",
       "0   0.510313  \n",
       "1   0.510313  \n",
       "2   2.386163  \n",
       "3  13.893784  \n",
       "4   6.827570  "
      ]
     },
     "execution_count": 5,
     "metadata": {},
     "output_type": "execute_result"
    }
   ],
   "source": [
    "df1 = pd.DataFrame(df['event_json'].apply(ast.literal_eval).values.tolist())\n",
    "df1['ecpm'] = df1['revenue']*1000\n",
    "df1.head()"
   ]
  },
  {
   "cell_type": "code",
   "execution_count": 6,
   "id": "20a477f9",
   "metadata": {},
   "outputs": [],
   "source": [
    "# отбросим столбцы, которые не требуются для анализа (точнее, не включены в ТЗ)\n",
    "df1.drop(['placement', 'cur_ticks', 'ecpm_sma', 'value', 'currency', 'ad_country_code', 'ad_unit_id', 'ad_network_placement', \n",
    "          'creativeId', 'network_name', 'view_index', 'session_view_index'], axis=1, inplace=True)"
   ]
  },
  {
   "cell_type": "code",
   "execution_count": 7,
   "id": "465588db",
   "metadata": {},
   "outputs": [
    {
     "data": {
      "text/html": [
       "<div>\n",
       "<style scoped>\n",
       "    .dataframe tbody tr th:only-of-type {\n",
       "        vertical-align: middle;\n",
       "    }\n",
       "\n",
       "    .dataframe tbody tr th {\n",
       "        vertical-align: top;\n",
       "    }\n",
       "\n",
       "    .dataframe thead th {\n",
       "        text-align: right;\n",
       "    }\n",
       "</style>\n",
       "<table border=\"1\" class=\"dataframe\">\n",
       "  <thead>\n",
       "    <tr style=\"text-align: right;\">\n",
       "      <th></th>\n",
       "      <th>profile_id</th>\n",
       "      <th>os_version</th>\n",
       "      <th>device_manufacturer</th>\n",
       "      <th>device_model</th>\n",
       "      <th>device_type</th>\n",
       "      <th>device_locale</th>\n",
       "      <th>event_name</th>\n",
       "      <th>event_datetime</th>\n",
       "      <th>event_timestamp</th>\n",
       "      <th>event_receive_datetime</th>\n",
       "      <th>...</th>\n",
       "      <th>connection_type</th>\n",
       "      <th>operator_name</th>\n",
       "      <th>country_iso_code</th>\n",
       "      <th>city</th>\n",
       "      <th>ad_type</th>\n",
       "      <th>session_length</th>\n",
       "      <th>revenue</th>\n",
       "      <th>ads_ltv</th>\n",
       "      <th>normalized_ecpm_sma</th>\n",
       "      <th>ecpm</th>\n",
       "    </tr>\n",
       "  </thead>\n",
       "  <tbody>\n",
       "    <tr>\n",
       "      <th>0</th>\n",
       "      <td>JLjpGzDHBQm</td>\n",
       "      <td>11</td>\n",
       "      <td>Samsung</td>\n",
       "      <td>Galaxy Tab S6</td>\n",
       "      <td>tablet</td>\n",
       "      <td>en_US</td>\n",
       "      <td>c_ad_revenue</td>\n",
       "      <td>2022-02-04 20:02:28</td>\n",
       "      <td>1643994148</td>\n",
       "      <td>2022-02-06 17:58:19</td>\n",
       "      <td>...</td>\n",
       "      <td>wifi</td>\n",
       "      <td>NaN</td>\n",
       "      <td>US</td>\n",
       "      <td>Norwalk</td>\n",
       "      <td>banner</td>\n",
       "      <td>705.88070</td>\n",
       "      <td>0.000510</td>\n",
       "      <td>0.487877</td>\n",
       "      <td>0.511508</td>\n",
       "      <td>0.510313</td>\n",
       "    </tr>\n",
       "    <tr>\n",
       "      <th>1</th>\n",
       "      <td>JLjpGzDHBQm</td>\n",
       "      <td>11</td>\n",
       "      <td>Samsung</td>\n",
       "      <td>Galaxy Tab S6</td>\n",
       "      <td>tablet</td>\n",
       "      <td>en_US</td>\n",
       "      <td>c_ad_revenue</td>\n",
       "      <td>2022-02-04 20:02:45</td>\n",
       "      <td>1643994165</td>\n",
       "      <td>2022-02-06 17:58:19</td>\n",
       "      <td>...</td>\n",
       "      <td>wifi</td>\n",
       "      <td>NaN</td>\n",
       "      <td>US</td>\n",
       "      <td>Norwalk</td>\n",
       "      <td>banner</td>\n",
       "      <td>722.65120</td>\n",
       "      <td>0.000510</td>\n",
       "      <td>0.488387</td>\n",
       "      <td>0.511389</td>\n",
       "      <td>0.510313</td>\n",
       "    </tr>\n",
       "    <tr>\n",
       "      <th>2</th>\n",
       "      <td>JLkVacrzHY6</td>\n",
       "      <td>11</td>\n",
       "      <td>Google</td>\n",
       "      <td>Pixel 2</td>\n",
       "      <td>phone</td>\n",
       "      <td>en_US</td>\n",
       "      <td>c_ad_revenue</td>\n",
       "      <td>2022-02-05 17:53:05</td>\n",
       "      <td>1644072785</td>\n",
       "      <td>2022-02-06 16:59:29</td>\n",
       "      <td>...</td>\n",
       "      <td>wifi</td>\n",
       "      <td>Verizon</td>\n",
       "      <td>US</td>\n",
       "      <td>Charlotte</td>\n",
       "      <td>banner</td>\n",
       "      <td>431.81290</td>\n",
       "      <td>0.002386</td>\n",
       "      <td>0.678479</td>\n",
       "      <td>0.928597</td>\n",
       "      <td>2.386163</td>\n",
       "    </tr>\n",
       "    <tr>\n",
       "      <th>3</th>\n",
       "      <td>JMC6wG3cX0f</td>\n",
       "      <td>10</td>\n",
       "      <td>Samsung</td>\n",
       "      <td>Galaxy S9</td>\n",
       "      <td>phone</td>\n",
       "      <td>en_US</td>\n",
       "      <td>c_ad_revenue</td>\n",
       "      <td>2022-02-06 17:09:01</td>\n",
       "      <td>1644156541</td>\n",
       "      <td>2022-02-06 17:09:24</td>\n",
       "      <td>...</td>\n",
       "      <td>wifi</td>\n",
       "      <td>T-Mobile</td>\n",
       "      <td>US</td>\n",
       "      <td>Cocoa</td>\n",
       "      <td>int</td>\n",
       "      <td>125.94960</td>\n",
       "      <td>0.013894</td>\n",
       "      <td>0.013894</td>\n",
       "      <td>13.893784</td>\n",
       "      <td>13.893784</td>\n",
       "    </tr>\n",
       "    <tr>\n",
       "      <th>4</th>\n",
       "      <td>JLzWWTJfi1b</td>\n",
       "      <td>10</td>\n",
       "      <td>Samsung</td>\n",
       "      <td>Galaxy S9</td>\n",
       "      <td>phone</td>\n",
       "      <td>en_US</td>\n",
       "      <td>c_ad_revenue</td>\n",
       "      <td>2022-02-06 17:15:38</td>\n",
       "      <td>1644156938</td>\n",
       "      <td>2022-02-06 17:16:16</td>\n",
       "      <td>...</td>\n",
       "      <td>cell</td>\n",
       "      <td>Verizon</td>\n",
       "      <td>US</td>\n",
       "      <td>NaN</td>\n",
       "      <td>banner</td>\n",
       "      <td>12.71129</td>\n",
       "      <td>0.006828</td>\n",
       "      <td>0.060571</td>\n",
       "      <td>1.660282</td>\n",
       "      <td>6.827570</td>\n",
       "    </tr>\n",
       "  </tbody>\n",
       "</table>\n",
       "<p>5 rows × 21 columns</p>\n",
       "</div>"
      ],
      "text/plain": [
       "    profile_id os_version device_manufacturer   device_model device_type  \\\n",
       "0  JLjpGzDHBQm         11             Samsung  Galaxy Tab S6      tablet   \n",
       "1  JLjpGzDHBQm         11             Samsung  Galaxy Tab S6      tablet   \n",
       "2  JLkVacrzHY6         11              Google        Pixel 2       phone   \n",
       "3  JMC6wG3cX0f         10             Samsung      Galaxy S9       phone   \n",
       "4  JLzWWTJfi1b         10             Samsung      Galaxy S9       phone   \n",
       "\n",
       "  device_locale    event_name       event_datetime  event_timestamp  \\\n",
       "0         en_US  c_ad_revenue  2022-02-04 20:02:28       1643994148   \n",
       "1         en_US  c_ad_revenue  2022-02-04 20:02:45       1643994165   \n",
       "2         en_US  c_ad_revenue  2022-02-05 17:53:05       1644072785   \n",
       "3         en_US  c_ad_revenue  2022-02-06 17:09:01       1644156541   \n",
       "4         en_US  c_ad_revenue  2022-02-06 17:15:38       1644156938   \n",
       "\n",
       "  event_receive_datetime  ...  connection_type operator_name country_iso_code  \\\n",
       "0    2022-02-06 17:58:19  ...             wifi           NaN               US   \n",
       "1    2022-02-06 17:58:19  ...             wifi           NaN               US   \n",
       "2    2022-02-06 16:59:29  ...             wifi       Verizon               US   \n",
       "3    2022-02-06 17:09:24  ...             wifi      T-Mobile               US   \n",
       "4    2022-02-06 17:16:16  ...             cell      Verizon                US   \n",
       "\n",
       "        city ad_type session_length   revenue   ads_ltv  normalized_ecpm_sma  \\\n",
       "0    Norwalk  banner      705.88070  0.000510  0.487877             0.511508   \n",
       "1    Norwalk  banner      722.65120  0.000510  0.488387             0.511389   \n",
       "2  Charlotte  banner      431.81290  0.002386  0.678479             0.928597   \n",
       "3      Cocoa     int      125.94960  0.013894  0.013894            13.893784   \n",
       "4        NaN  banner       12.71129  0.006828  0.060571             1.660282   \n",
       "\n",
       "        ecpm  \n",
       "0   0.510313  \n",
       "1   0.510313  \n",
       "2   2.386163  \n",
       "3  13.893784  \n",
       "4   6.827570  \n",
       "\n",
       "[5 rows x 21 columns]"
      ]
     },
     "execution_count": 7,
     "metadata": {},
     "output_type": "execute_result"
    }
   ],
   "source": [
    "df = pd.concat([df.drop('event_json', axis=1), df1],axis=1)\n",
    "df.head()"
   ]
  },
  {
   "cell_type": "code",
   "execution_count": 8,
   "id": "baa4cfbd",
   "metadata": {},
   "outputs": [
    {
     "data": {
      "text/html": [
       "<div>\n",
       "<style scoped>\n",
       "    .dataframe tbody tr th:only-of-type {\n",
       "        vertical-align: middle;\n",
       "    }\n",
       "\n",
       "    .dataframe tbody tr th {\n",
       "        vertical-align: top;\n",
       "    }\n",
       "\n",
       "    .dataframe thead th {\n",
       "        text-align: right;\n",
       "    }\n",
       "</style>\n",
       "<table border=\"1\" class=\"dataframe\">\n",
       "  <thead>\n",
       "    <tr style=\"text-align: right;\">\n",
       "      <th></th>\n",
       "      <th>columns</th>\n",
       "      <th>total_missing</th>\n",
       "      <th>%%%</th>\n",
       "    </tr>\n",
       "  </thead>\n",
       "  <tbody>\n",
       "    <tr>\n",
       "      <th>0</th>\n",
       "      <td>profile_id</td>\n",
       "      <td>14</td>\n",
       "      <td>0.001628</td>\n",
       "    </tr>\n",
       "    <tr>\n",
       "      <th>1</th>\n",
       "      <td>os_version</td>\n",
       "      <td>0</td>\n",
       "      <td>0.000000</td>\n",
       "    </tr>\n",
       "    <tr>\n",
       "      <th>2</th>\n",
       "      <td>device_manufacturer</td>\n",
       "      <td>0</td>\n",
       "      <td>0.000000</td>\n",
       "    </tr>\n",
       "    <tr>\n",
       "      <th>3</th>\n",
       "      <td>device_model</td>\n",
       "      <td>0</td>\n",
       "      <td>0.000000</td>\n",
       "    </tr>\n",
       "    <tr>\n",
       "      <th>4</th>\n",
       "      <td>device_type</td>\n",
       "      <td>0</td>\n",
       "      <td>0.000000</td>\n",
       "    </tr>\n",
       "    <tr>\n",
       "      <th>5</th>\n",
       "      <td>device_locale</td>\n",
       "      <td>0</td>\n",
       "      <td>0.000000</td>\n",
       "    </tr>\n",
       "    <tr>\n",
       "      <th>6</th>\n",
       "      <td>event_name</td>\n",
       "      <td>0</td>\n",
       "      <td>0.000000</td>\n",
       "    </tr>\n",
       "    <tr>\n",
       "      <th>7</th>\n",
       "      <td>event_datetime</td>\n",
       "      <td>0</td>\n",
       "      <td>0.000000</td>\n",
       "    </tr>\n",
       "    <tr>\n",
       "      <th>8</th>\n",
       "      <td>event_timestamp</td>\n",
       "      <td>0</td>\n",
       "      <td>0.000000</td>\n",
       "    </tr>\n",
       "    <tr>\n",
       "      <th>9</th>\n",
       "      <td>event_receive_datetime</td>\n",
       "      <td>0</td>\n",
       "      <td>0.000000</td>\n",
       "    </tr>\n",
       "    <tr>\n",
       "      <th>10</th>\n",
       "      <td>event_receive_timestamp</td>\n",
       "      <td>0</td>\n",
       "      <td>0.000000</td>\n",
       "    </tr>\n",
       "    <tr>\n",
       "      <th>11</th>\n",
       "      <td>connection_type</td>\n",
       "      <td>0</td>\n",
       "      <td>0.000000</td>\n",
       "    </tr>\n",
       "    <tr>\n",
       "      <th>12</th>\n",
       "      <td>operator_name</td>\n",
       "      <td>18879</td>\n",
       "      <td>2.195031</td>\n",
       "    </tr>\n",
       "    <tr>\n",
       "      <th>13</th>\n",
       "      <td>country_iso_code</td>\n",
       "      <td>0</td>\n",
       "      <td>0.000000</td>\n",
       "    </tr>\n",
       "    <tr>\n",
       "      <th>14</th>\n",
       "      <td>city</td>\n",
       "      <td>323708</td>\n",
       "      <td>37.637008</td>\n",
       "    </tr>\n",
       "    <tr>\n",
       "      <th>15</th>\n",
       "      <td>ad_type</td>\n",
       "      <td>0</td>\n",
       "      <td>0.000000</td>\n",
       "    </tr>\n",
       "    <tr>\n",
       "      <th>16</th>\n",
       "      <td>session_length</td>\n",
       "      <td>0</td>\n",
       "      <td>0.000000</td>\n",
       "    </tr>\n",
       "    <tr>\n",
       "      <th>17</th>\n",
       "      <td>revenue</td>\n",
       "      <td>0</td>\n",
       "      <td>0.000000</td>\n",
       "    </tr>\n",
       "    <tr>\n",
       "      <th>18</th>\n",
       "      <td>ads_ltv</td>\n",
       "      <td>0</td>\n",
       "      <td>0.000000</td>\n",
       "    </tr>\n",
       "    <tr>\n",
       "      <th>19</th>\n",
       "      <td>normalized_ecpm_sma</td>\n",
       "      <td>0</td>\n",
       "      <td>0.000000</td>\n",
       "    </tr>\n",
       "    <tr>\n",
       "      <th>20</th>\n",
       "      <td>ecpm</td>\n",
       "      <td>0</td>\n",
       "      <td>0.000000</td>\n",
       "    </tr>\n",
       "  </tbody>\n",
       "</table>\n",
       "</div>"
      ],
      "text/plain": [
       "                    columns  total_missing        %%%\n",
       "0                profile_id             14   0.001628\n",
       "1                os_version              0   0.000000\n",
       "2       device_manufacturer              0   0.000000\n",
       "3              device_model              0   0.000000\n",
       "4               device_type              0   0.000000\n",
       "5             device_locale              0   0.000000\n",
       "6                event_name              0   0.000000\n",
       "7            event_datetime              0   0.000000\n",
       "8           event_timestamp              0   0.000000\n",
       "9    event_receive_datetime              0   0.000000\n",
       "10  event_receive_timestamp              0   0.000000\n",
       "11          connection_type              0   0.000000\n",
       "12            operator_name          18879   2.195031\n",
       "13         country_iso_code              0   0.000000\n",
       "14                     city         323708  37.637008\n",
       "15                  ad_type              0   0.000000\n",
       "16           session_length              0   0.000000\n",
       "17                  revenue              0   0.000000\n",
       "18                  ads_ltv              0   0.000000\n",
       "19      normalized_ecpm_sma              0   0.000000\n",
       "20                     ecpm              0   0.000000"
      ]
     },
     "execution_count": 8,
     "metadata": {},
     "output_type": "execute_result"
    }
   ],
   "source": [
    "na(df)"
   ]
  },
  {
   "cell_type": "code",
   "execution_count": 9,
   "id": "20f37cdf",
   "metadata": {},
   "outputs": [],
   "source": [
    "df.dropna(inplace=True)"
   ]
  },
  {
   "cell_type": "markdown",
   "id": "b4df389e",
   "metadata": {},
   "source": [
    "# ЗАДАНИЕ 1.\n",
    "Для каждого формата рекламы:\n",
    "\n",
    "a. построить распределение средних eCPM-ов юзеров\n",
    "\n",
    "b. отобразить средние eCPM-ы по городам, версиям ОС\n",
    "\n",
    "c. отобразить суммарные доходы по городам, версиям ОС"
   ]
  },
  {
   "cell_type": "markdown",
   "id": "7a00ba3a",
   "metadata": {},
   "source": [
    "### Для начала создадим 3 отдельных датасета в зависимости от формата рекламы:"
   ]
  },
  {
   "cell_type": "code",
   "execution_count": 10,
   "id": "871c027b",
   "metadata": {},
   "outputs": [],
   "source": [
    "int_df = df.loc[df['ad_type']=='int']\n",
    "banner_df = df.loc[df['ad_type']=='banner']\n",
    "rv_df = df.loc[df['ad_type']=='rv']"
   ]
  },
  {
   "cell_type": "markdown",
   "id": "ad18ddc2",
   "metadata": {},
   "source": [
    "## 1.1 Построить распределение средних eCPM-ов юзеров"
   ]
  },
  {
   "cell_type": "markdown",
   "id": "ed3068d0",
   "metadata": {},
   "source": [
    "Я использую в качестве показателя среднего медиану, потому что в данных есть выбросы, которые сильно искажают картину"
   ]
  },
  {
   "cell_type": "markdown",
   "id": "0e5e309a",
   "metadata": {},
   "source": [
    "Сначала посмотрим на гистограммы, чтобы понять, как вообще выглядит наше распределение:"
   ]
  },
  {
   "cell_type": "code",
   "execution_count": 11,
   "id": "67c12849",
   "metadata": {
    "scrolled": true
   },
   "outputs": [
    {
     "data": {
      "text/plain": [
       "Text(0.5, 1.0, 'AD_TYPE: RV')"
      ]
     },
     "execution_count": 11,
     "metadata": {},
     "output_type": "execute_result"
    },
    {
     "data": {
      "image/png": "[encoded data removed]",
      "text/plain": [
       "<Figure size 1440x1440 with 3 Axes>"
      ]
     },
     "metadata": {
      "needs_background": "light"
     },
     "output_type": "display_data"
    }
   ],
   "source": [
    "fig, axes = plt.subplots(3,1, figsize=(20,20))\n",
    "\n",
    "sns.histplot(int_df.groupby('profile_id')['ecpm'].median(), ax=axes[0])\n",
    "axes[0].set_title('AD_TYPE: INT')\n",
    "\n",
    "sns.histplot(banner_df.groupby('profile_id')['ecpm'].median(), ax=axes[1])\n",
    "axes[1].set_title('AD_TYPE: BANNER')\n",
    "\n",
    "sns.histplot(rv_df.groupby('profile_id')['ecpm'].median(), ax=axes[2])\n",
    "axes[2].set_title('AD_TYPE: RV')"
   ]
  },
  {
   "cell_type": "markdown",
   "id": "e28b51a6",
   "metadata": {},
   "source": [
    "Теперь посмотрим на ящики с усами, чтобы увидеть средние средних:)"
   ]
  },
  {
   "cell_type": "code",
   "execution_count": 12,
   "id": "c083ce4c",
   "metadata": {
    "scrolled": true
   },
   "outputs": [
    {
     "name": "stdout",
     "output_type": "stream",
     "text": [
      "MEDIAN: INT 24.596382139148503\n",
      "MEDIAN: BANNER 0.49687600000000004\n",
      "MEDIAN: RV 43.8653836875\n"
     ]
    },
    {
     "data": {
      "image/png": "[encoded data removed]",
      "text/plain": [
       "<Figure size 1080x2160 with 3 Axes>"
      ]
     },
     "metadata": {
      "needs_background": "light"
     },
     "output_type": "display_data"
    }
   ],
   "source": [
    "fig, axes = plt.subplots(3,1, figsize=(15,30))\n",
    "\n",
    "sns.boxplot(data=int_df.groupby('profile_id')['ecpm'].median(), ax=axes[0])\n",
    "axes[0].set_title('AD_TYPE: INT')\n",
    "print('MEDIAN: INT', (int_df.groupby('profile_id')['ecpm'].median()).median())\n",
    "\n",
    "sns.boxplot(data=banner_df.groupby('profile_id')['ecpm'].median(), ax=axes[1])\n",
    "axes[1].set_title('AD_TYPE: BANNER')\n",
    "print('MEDIAN: BANNER', (banner_df.groupby('profile_id')['ecpm'].median()).median())\n",
    "\n",
    "sns.boxplot(data=rv_df.groupby('profile_id')['ecpm'].median(), ax=axes[2])\n",
    "axes[2].set_title('AD_TYPE: RV')\n",
    "print('MEDIAN: RV', (rv_df.groupby('profile_id')['ecpm'].median()).median())"
   ]
  },
  {
   "cell_type": "markdown",
   "id": "077a3532",
   "metadata": {},
   "source": [
    "Ух как тут много аномально высоких значений..."
   ]
  },
  {
   "cell_type": "markdown",
   "id": "3664b359",
   "metadata": {},
   "source": [
    "По графикам можно сказать, что распределение eCPM-ов ненормально, поэтому для определения наличия\\отсутствия статистических различий между средними значениями eCPM-ов пользователей в зависимости от формата рекламы будем использовать непараметрический тест Краскела-Уоллиса"
   ]
  },
  {
   "cell_type": "code",
   "execution_count": 13,
   "id": "d0baaad2",
   "metadata": {},
   "outputs": [
    {
     "data": {
      "text/plain": [
       "0.0"
      ]
     },
     "execution_count": 13,
     "metadata": {},
     "output_type": "execute_result"
    }
   ],
   "source": [
    "from scipy.stats import kruskal\n",
    "\n",
    "_, p_value = kruskal(int_df['ecpm'], banner_df['ecpm'], rv_df['ecpm'])\n",
    "p_value"
   ]
  },
  {
   "cell_type": "markdown",
   "id": "d1e293d9",
   "metadata": {},
   "source": [
    "Так как p-value значительно меньше 0.05, мы отклоняем нулевую гипотезу об отсутствии различий между средними наших групп. Теперь попарно сравним средние с помощью критерия Манна-Уитни"
   ]
  },
  {
   "cell_type": "code",
   "execution_count": 14,
   "id": "b1a42b5e",
   "metadata": {},
   "outputs": [
    {
     "name": "stdout",
     "output_type": "stream",
     "text": [
      "MannwhitneyuResult(statistic=11407897353.0, pvalue=0.0)\n",
      "MannwhitneyuResult(statistic=29925784.0, pvalue=0.0)\n",
      "MannwhitneyuResult(statistic=6501615.5, pvalue=0.0)\n"
     ]
    }
   ],
   "source": [
    "from scipy.stats import mannwhitneyu\n",
    "\n",
    "print(mannwhitneyu(int_df['ecpm'], banner_df['ecpm']))\n",
    "print(mannwhitneyu(int_df['ecpm'], rv_df['ecpm']))\n",
    "print(mannwhitneyu(banner_df['ecpm'], rv_df['ecpm']))"
   ]
  },
  {
   "cell_type": "markdown",
   "id": "1e18d6e7",
   "metadata": {},
   "source": [
    "Везде p-value равно 0, поэтому делаем вывод о наличии статистически значимых различий между средними значениями eCPM-ов пользователей в зависимости от формата рекламы."
   ]
  },
  {
   "cell_type": "markdown",
   "id": "c71ccba4",
   "metadata": {},
   "source": [
    "На основании медианных значений:\n",
    "\n",
    "MEDIAN: INT 24.596382139148503\n",
    "\n",
    "MEDIAN: BANNER 0.49687600000000004\n",
    "\n",
    "MEDIAN: RV 39.8617142857143\n",
    "\n",
    "Делаем вывод, что форматом рекламы с самым высоким ecpm является RV, а с самым низким - Banner"
   ]
  },
  {
   "cell_type": "code",
   "execution_count": 15,
   "id": "2ca64622",
   "metadata": {},
   "outputs": [
    {
     "data": {
      "text/plain": [
       "(4166, 21)"
      ]
     },
     "execution_count": 15,
     "metadata": {},
     "output_type": "execute_result"
    }
   ],
   "source": [
    "rv_df.shape"
   ]
  },
  {
   "cell_type": "code",
   "execution_count": 16,
   "id": "c798cb3a",
   "metadata": {},
   "outputs": [
    {
     "data": {
      "text/plain": [
       "(23154, 21)"
      ]
     },
     "execution_count": 16,
     "metadata": {},
     "output_type": "execute_result"
    }
   ],
   "source": [
    "int_df.shape"
   ]
  },
  {
   "cell_type": "code",
   "execution_count": 17,
   "id": "e8f61fcb",
   "metadata": {},
   "outputs": [
    {
     "data": {
      "text/plain": [
       "(495409, 21)"
      ]
     },
     "execution_count": 17,
     "metadata": {},
     "output_type": "execute_result"
    }
   ],
   "source": [
    "banner_df.shape"
   ]
  },
  {
   "cell_type": "markdown",
   "id": "50302ca8",
   "metadata": {},
   "source": [
    "Однако я бы с осторожностью отнеслась к данным результатам по причине несбалансированности выборок. Возможно наименьшие выборки не являются достаточно репрезентативными."
   ]
  },
  {
   "cell_type": "markdown",
   "id": "99aa6944",
   "metadata": {},
   "source": [
    "## 1.2. Отобразить средние eCPM-ы по городам, версиям ОС"
   ]
  },
  {
   "cell_type": "markdown",
   "id": "dc136501",
   "metadata": {},
   "source": [
    "Сначала просто посмотрим, какие города и версии ОС вообще есть в данных:"
   ]
  },
  {
   "cell_type": "code",
   "execution_count": 18,
   "id": "0a426ef5",
   "metadata": {},
   "outputs": [
    {
     "name": "stdout",
     "output_type": "stream",
     "text": [
      "city\n",
      "КОЛИЧЕСТВО УНИКАЛЬНЫХ ЗНАЧЕНИЙ:  904\n",
      "УНИКАЛЬНЫЕ ЗНАЧЕНИЯ:\n",
      " ['Charlotte' 'Cocoa' 'Columbus' 'Jamestown' 'Austin' 'Minot' 'Milwaukee'\n",
      " 'McKeesport' 'New Albany' 'Kansas City' 'Ypsilanti' 'Indianapolis'\n",
      " 'Geneva' 'Tampa' 'Saint Paul' 'Trenton' 'Cherry Hill' 'Lafayette'\n",
      " 'New York' 'Dayton' 'Alexandria' 'Hayward' 'San Francisco' 'Decatur'\n",
      " 'Birmingham' 'Madison' 'Sioux Falls' 'Roosevelt' 'Grand Rapids' 'Wichita'\n",
      " 'Louisville' 'Overland Park' 'Gainesville' 'Grants Pass' 'Shreveport'\n",
      " 'Springfield' 'DeKalb' 'West Jordan' 'Kalispell' 'Portland'\n",
      " 'Farmingville' 'Schenectady' 'Oklahoma City' 'Jacksonville' 'Dallas'\n",
      " 'Santa Maria' 'Madison Heights' 'Minneapolis' 'Nashville' 'Houston'\n",
      " 'Cape Coral' 'Atlanta' 'Sacramento' 'Pittsburgh' 'Norwalk' 'Lenoir City'\n",
      " 'Phoenix' 'Greenville' 'Augusta' 'Philadelphia' 'Detroit' 'Shelbyville'\n",
      " 'Fishers' 'Claremore' 'Wasilla' 'Carmel' 'Seattle' 'Chicago' 'Eugene'\n",
      " 'Tacoma' 'Ocala' 'Winter Garden' 'Palm Coast' 'Tulsa' 'Spokane'\n",
      " 'Kankakee' 'Bangor' 'Fargo' 'Clarksburg' 'Boise' 'Chico' 'Arlington'\n",
      " 'Orlando' 'Salt Lake City' 'Logan' 'Lubbock' 'Queensbury' 'Tinley Park'\n",
      " 'Bethel Park' 'Temple' 'Merced' 'Peoria' \"Lee's Summit\" 'San Antonio'\n",
      " 'Dublin' 'Brecksville' 'Bozeman' 'Marshall' 'Brookings' 'Saginaw'\n",
      " 'St. Louis' 'Anaheim' 'Kennesaw' 'Maple Grove' 'Kennewick' 'Bolingbrook'\n",
      " 'Portsmouth' 'Taylor' 'Irving' 'Pontiac' 'Huntington' 'Denver'\n",
      " 'Manchester' 'Elk Grove' 'Cedar City' 'Melbourne' 'Las Vegas' 'Malden'\n",
      " 'Okeechobee' 'San Diego' 'El Paso' 'Brentwood' 'Burkburnett'\n",
      " 'Jerseyville' 'Wilmington' 'Potsdam' 'Newark' 'Baltimore' 'Mechanicsburg'\n",
      " 'New Berlin' 'Westford' 'Daytona Beach' 'Cleveland' 'Greensboro'\n",
      " 'Gulfport' 'Nashua' 'Columbia City' 'Los Angeles' 'Kingsport'\n",
      " 'Albuquerque' 'Evansville' 'Gig Harbor' 'Charleston' 'Somerset' 'Katy'\n",
      " 'Waxahachie' 'Richardson' 'Rockford' 'Bloomfield' 'Dearborn' 'Webster'\n",
      " 'College Station' 'Rochester' 'Topeka' 'Scottsdale' 'Manitowoc'\n",
      " 'Carrollton' 'Niagara Falls' 'Fort Wayne' 'Auburn' 'Vancouver' 'Tucson'\n",
      " 'Ann Arbor' 'Erie' 'Sanford' 'Elkhorn' 'Neenah' 'North Las Vegas'\n",
      " 'Cincinnati' 'Lewes' 'Marina' 'Monument' 'Grand Junction' 'Statesville'\n",
      " 'Bloomington' 'Providence' 'Pikeville' 'Yukon' 'Youngstown'\n",
      " 'East Liverpool' 'Thousand Oaks' 'Cullman' 'Denton' 'Milton'\n",
      " 'Glastonbury' 'Layton' 'Basking Ridge' 'Duluth' 'Miami' 'Santa Rosa'\n",
      " 'Pueblo' 'Bainbridge Island' 'Hobbs' 'Muncie' 'Cortland' 'Pensacola'\n",
      " 'Surprise' 'London' 'Longmont' 'Boston' 'Gastonia' 'Odessa' 'Hagerstown'\n",
      " 'Mount Vernon' 'Schaumburg' 'Moline' 'Fort Lauderdale' 'Provo'\n",
      " 'Hinesville' 'Syracuse' 'Escondido' 'Omaha' 'Ridley Park' 'Lansing'\n",
      " 'Muskogee' 'Everett' 'Joplin' 'Honolulu' 'Lindon' 'Charlottesville'\n",
      " 'Port Clinton' 'Port Orchard' 'Great Bend' 'Memphis' 'Sandy' 'Helena'\n",
      " 'Covington' 'Midland' 'New Orleans' 'Norfolk' 'Bullhead City' 'Hampton'\n",
      " 'Lincoln' 'Tiffin' 'Lompoc' 'Newington' 'Jacksonville Beach' 'Florissant'\n",
      " 'Flint' 'Mattoon' 'Canton' 'Kailua-Kona' 'Sayre' 'Cartersville'\n",
      " 'Crawfordsville' 'Front Royal' 'Alamogordo' 'Hoover' 'Tallahassee'\n",
      " 'Kissimmee' 'Bonners Ferry' 'Reading' 'Raymondville' 'Bellingham'\n",
      " 'Waterloo' 'Riverside' 'Boca Raton' 'Lexington' 'Knoxville' 'Washington'\n",
      " 'Hattiesburg' 'Derry' 'Simpsonville' 'Newton' 'Roanoke' 'Reno' 'Medford'\n",
      " 'Wrangell' 'Des Moines' 'Ormond Beach' 'Flushing' 'Fresno'\n",
      " 'Cape Girardeau' 'Clearwater' 'Leesburg' 'Jersey City' 'Las Cruces'\n",
      " 'Appleton' 'Asbury Park' 'Buena Park' 'Hillsboro' 'Oshkosh' 'Mankato'\n",
      " 'Metairie' 'Santa Ana' 'Colorado Springs' 'Northampton' 'Cookeville'\n",
      " 'Lavonia' 'Kingsville' 'Coraopolis' 'Fairfax' 'Lawrence' 'Cary'\n",
      " 'Meadville' 'York' 'Cedar Falls' 'Chicopee' 'Smyrna' 'Ogden' 'Watertown'\n",
      " 'Chandler' 'Aurora' 'Pittsford' 'Royal Oak' 'Gallatin' 'Vero Beach'\n",
      " 'Sylvania' 'Dover' 'Bradenton' 'Kernersville' 'Altamonte Springs'\n",
      " 'Bordentown' 'Sierra Vista' 'Kent' 'Deer Park' 'Nicholasville' 'Sandusky'\n",
      " 'League City' 'East Peoria' 'Brooksville' 'Wisconsin Rapids' 'Zanesville'\n",
      " 'Olympia' 'Broomfield' 'Beaumont' 'Freeport' 'Spring' 'Huron'\n",
      " 'Owings Mills' 'Rohnert Park' 'Wentzville' 'El Cajon' 'Saint Joseph'\n",
      " 'Longview' 'Ephrata' 'Elkhart' 'Cleburne' 'Orange' 'Traverse City'\n",
      " 'Janesville' 'Afton' 'Gadsden' 'Poughkeepsie' 'Apopka' 'Prattville'\n",
      " 'Alpharetta' 'Edgerton' 'Rocky Mount' 'Hazlet' 'Salem' 'Elizabethtown'\n",
      " 'Newport News' 'King of Prussia' 'Fort Worth' \"O'Fallon\" 'Waynesboro'\n",
      " 'Dobson' 'Galesburg' 'Leesville' 'Faribault' 'Manhattan' 'Olathe'\n",
      " 'Wheat Ridge' 'West Palm Beach' 'Mount Airy' 'Lynnwood' 'Falls Church'\n",
      " 'Abilene' 'Horseheads' 'Brighton' 'Worcester' 'Columbia' 'Deltona'\n",
      " 'Livonia' 'Riverdale' 'Newport' 'Billings' 'Plattsburgh' 'West Warwick'\n",
      " 'Linden' 'Murrieta' 'Bellevue' 'Springdale' 'Valdosta' 'Buffalo'\n",
      " 'Sturgeon Bay' 'Des Plaines' 'Meridian' 'Long Beach' 'Idaho Falls'\n",
      " 'Waterville' 'Tulare' 'Laredo' 'Rockport' 'Anoka' 'Raleigh' 'Walker'\n",
      " 'Chattanooga' 'Morristown' 'Tempe' 'Palm Bay' 'Lancaster' 'Edmond'\n",
      " 'Salinas' 'Denham Springs' 'Pinellas Park' 'Miami Beach' 'Hastings'\n",
      " 'Monroe' 'Corpus Christi' 'Summersville' 'Westfield' 'Anderson'\n",
      " 'Fall River' 'Madisonville' 'Ponca City' 'Levittown' 'Jefferson City'\n",
      " 'New Smyrna Beach' 'Pooler' 'Miamisburg' 'San Jose' 'Temecula'\n",
      " 'Huntsville' 'Canfield' 'Jackson' 'Clarks Summit' 'Pasco' 'Gardena'\n",
      " 'Richmond' 'Pompano Beach' 'Lewisville' 'Costa Mesa' 'Fond Du Lac'\n",
      " 'Bay City' 'Fort Mill' 'Champaign' 'Burnsville' 'Little Rock' 'Mobile'\n",
      " 'Venice' 'Paducah' 'Glen Burnie' 'Dickinson' 'North Platte' 'Anchorage'\n",
      " 'Tillamook' 'Boulder' 'Dyersburg' 'Woburn' 'Akron' 'Norwich' 'Laurel'\n",
      " 'White Plains' 'Danville' 'Shawnee' 'Newnan' 'Warren' 'Hanover'\n",
      " 'Rockingham' 'Fort Myers' 'San Bernardino' 'Crystal Lake' 'Independence'\n",
      " 'Blue Springs' 'Toledo' 'Fontana' 'South Bend' 'Sarasota' 'Lewisburg'\n",
      " 'Custer' 'Lawrenceville' 'Huntersville' 'Medina' 'Corona' 'Summerville'\n",
      " 'Corning' 'Pendleton' 'Marshfield' 'Worland' 'Concord' 'Allentown'\n",
      " 'Sun Prairie' 'Brenham' 'Utica' 'Senatobia' 'Paoli' 'New Port Richey'\n",
      " 'Schertz' 'Seymour' 'Oak Creek' 'Scranton' 'Mesquite' 'Sterling Heights'\n",
      " 'Sylacauga' 'Goldsboro' 'Bartlesville' 'Santa Fe' 'Hammond' 'DuBois'\n",
      " 'McHenry' 'Gettysburg' 'Osage Beach' 'Hazard' 'Oceanside' 'Redlands'\n",
      " 'Oroville' 'Clementon' 'Owensboro' 'Gilbert' 'Petersburg' 'Farmville'\n",
      " 'Tomball' 'Muskegon' 'Marietta' 'Cranston' 'Morehead City'\n",
      " 'East Hartford' 'Greeneville' 'Danbury' 'Hot Springs' 'Brookline'\n",
      " 'Great Falls' 'Redwood City' 'Chambersburg' 'Savannah' 'Vincennes'\n",
      " 'West Des Moines' 'Fort Walton Beach' 'Escanaba' 'Framingham' 'Carroll'\n",
      " 'Hartsville' 'Brookfield' 'Eureka Springs' 'Forest City' 'Garland'\n",
      " 'Plano' 'Berlin' 'Rogers' 'Greenfield' 'Frisco' 'Aberdeen' 'Ventura'\n",
      " 'Martin' 'Toms River' 'Terre Haute' 'Hays' 'Mechanicsville' 'Wylie'\n",
      " 'Hackensack' 'Sevierville' 'Gloversville' 'Burlington' 'Bowling Green'\n",
      " 'Saint Marys' 'Myrtle Beach' 'Hadley' 'Hollywood' 'Lansdale'\n",
      " 'West Valley City' 'Middletown' 'Rancho Cordova' 'West Chester' 'Lowell'\n",
      " 'Joliet' 'Hoffman Estates' 'Fredericksburg' 'Troy' 'Munster' 'Greensburg'\n",
      " 'Battle Creek' 'Warsaw' 'Naples' 'Belle Vernon' 'Arvada' 'Littleton'\n",
      " 'Enid' 'Frankfort' 'Holbrook' 'Crossville' 'Redmond' 'Bismarck'\n",
      " 'Hannibal' 'Asheboro' 'Valparaiso' 'Harlingen' 'Greeley' 'Morgantown'\n",
      " 'Fort Collins' 'Athens' 'Binghamton' 'Kingwood' 'Franklin'\n",
      " 'New Braunfels' 'Uniontown' 'Waco' 'Chillicothe' 'Naperville'\n",
      " 'Placerville' 'Harrison' 'Racine' 'Rome' 'Powell' 'Laramie' 'Martinsburg'\n",
      " 'Grand Forks' 'Dahlonega' 'Michigan City' 'Tracy' 'Somerville'\n",
      " 'Grand Prairie' 'Altoona' 'McDonough' 'Kenosha' 'Fairfield' 'Biloxi'\n",
      " 'Oxford' 'Fallon' 'Montgomery' 'La Junta' 'Flagstaff' 'Marion' 'Urbana'\n",
      " 'Orem' 'Canonsburg' 'Port Huron' 'Clarkesville' 'Southington'\n",
      " 'Ronkonkoma' 'Albany' 'Sioux City' 'Jonesboro' 'Johnson City' 'Beatrice'\n",
      " 'Wesley Chapel' 'Cumming' 'Slidell' 'Elgin' 'Federal Way' 'Hutchinson'\n",
      " 'Robinson' 'Glendale' 'Marquette' 'Brainerd' 'Santa Cruz' 'Northville'\n",
      " 'Council Bluffs' 'Claremont' 'Sugar Land' 'Mesa' 'Castro Valley'\n",
      " 'Wallingford' 'Lake Charles' 'Lake George' 'New Bedford' 'Ontario'\n",
      " 'Green Bay' 'Massillon' 'Manassas' 'Carlisle' 'McAllen'\n",
      " 'Palm Beach Gardens' 'Okmulgee' 'Hilton Head Island' 'Conroe' 'Tehachapi'\n",
      " 'San Rafael' 'Yuma' 'Stow' 'Willmar' 'Lakeland' 'Iowa City'\n",
      " 'Bloomingdale' 'Mayfield' 'Beaufort' 'Fayetteville' 'Sunnyvale'\n",
      " 'Milpitas' 'Osseo' 'Broken Arrow' 'Waynesville' \"Coeur d'Alene\"\n",
      " 'Strongsville' 'North Bergen' 'Clifton' 'Wichita Falls' 'Farmington'\n",
      " 'La Crosse' 'Vacaville' 'Lewistown' 'Round Rock' 'Mount Laurel'\n",
      " 'Johnstown' 'Colchester' 'Crossett' 'New Ulm' 'Rockwall' 'Spirit Lake'\n",
      " 'Rapid City' 'Oviedo' 'Norman' 'Greenwood' 'Post Falls'\n",
      " 'Port Saint Lucie' 'Lincoln City' 'Arkansas City' 'Dubuque' 'Brandon'\n",
      " 'Celina' 'Batavia' 'Saint Charles' 'Lamar' 'Virginia Beach' 'North Port'\n",
      " 'Bardstown' 'Bremerton' 'Evanston' 'Wilson' 'Dade City' 'Cynthiana'\n",
      " 'Missoula' 'Quincy' 'Amery' 'Woodcliff Lake' 'Southfield' 'Tucker'\n",
      " 'Woodstock' 'Lynchburg' 'Romulus' 'Salisbury' 'Seguin' 'Baytown' 'Easton'\n",
      " 'Pearland' 'Bell Gardens' 'Lawton' 'Killeen' 'Mount Juliet' 'Mebane'\n",
      " 'Edison' 'Palestine' 'Batesville' 'Williamsburg' 'Bellefontaine'\n",
      " 'Centerville' 'Huntingdon' 'Fairview Heights' 'Orland Park' 'Brownsburg'\n",
      " 'Holland' 'Grapevine' 'Scottsburg' 'Saint Augustine' 'La Grange'\n",
      " 'Palmdale' 'Indio' 'Pocatello' 'Belleville' 'Oxnard' 'Rancho Cucamonga'\n",
      " 'Ashburn' 'Montpelier' 'Apex' 'Murfreesboro' 'Bend' 'Corbin' 'Lima'\n",
      " 'Lebanon' 'Cheyenne' 'Keokuk' 'Stockton' 'Clovis' 'Roseville'\n",
      " 'Baton Rouge' 'Eau Claire' 'State College' 'Murray' 'Cedar Rapids'\n",
      " 'San Luis Obispo' 'Hartford' 'Picayune' 'Wake Forest' 'Durham'\n",
      " 'Santa Clara' 'Casper' 'Angola' 'Florence' 'Ardmore' 'Kyle' 'Wausau'\n",
      " 'Punta Gorda' 'Dalton' 'Gresham' 'Burbank' 'Butte' 'Hilliard' 'Nampa'\n",
      " 'Ironton' 'Walla Walla' 'Clarksville' 'Exeter' 'Bayonne' 'Levelland'\n",
      " 'Danvers' 'Mount Pleasant' 'Carbondale' 'Waukesha' 'Addison' 'Kearney'\n",
      " 'Chantilly' 'Vail' 'Pembroke Pines' 'Mentor' 'Pittsfield' 'Bethlehem'\n",
      " 'Hilo' 'Mission' 'Oneonta' 'Dothan' 'North Olmsted' 'Alvarado'\n",
      " 'West Chicago' 'Elmira' 'Mountain View' 'Georgetown' 'Garner' 'Sulphur'\n",
      " 'Panama City' 'Irvine' 'Hurricane' 'Vienna' 'Suffolk' 'Bellflower'\n",
      " 'Milford' 'San Angelo' 'Waltham' 'Butler' 'Alameda' 'Vista' 'Beaverton'\n",
      " 'Kingston' 'Spring Hill' 'Collinsville' 'Waldorf' 'Harrisburg' 'Fremont'\n",
      " 'Steamboat Springs' 'Charlston' 'Arcadia' 'Hemet' 'Manistee'\n",
      " 'Porterville' 'Matthews' 'El Centro' 'Flemington' 'Pahrump' 'Plymouth'\n",
      " 'Lehighton' 'West Lafayette' 'Brockton' 'Sturgis' 'Roseburg' 'Palmyra'\n",
      " 'Gloucester City' 'Torrance' 'Sumter' 'Oakland' 'Silver Spring'\n",
      " 'Tarpon Springs' 'Moreno Valley' 'Garden Grove' 'Warner Robins'\n",
      " 'Ellensburg' 'Gonzales' 'Huntington Beach' 'El Monte' 'Eureka' 'Ruston'\n",
      " 'Bowie' 'Modesto' 'High Point' 'Lake Worth' 'Camden' 'Conyers'\n",
      " 'Pikesville' 'Norwood' 'Newport Beach' 'Mountain Top' 'Kalamazoo'\n",
      " 'Cherokee' 'Parkersburg' 'Fairborn' 'Perris' 'Homestead'\n",
      " 'South Milwaukee' 'Hendersonville' 'Bedford' 'Ithaca' 'Bakersfield'\n"
     ]
    },
    {
     "name": "stdout",
     "output_type": "stream",
     "text": [
      " 'Folsom' 'Swedesboro' 'Grove City']\n",
      "------------------------------\n",
      "os_version\n",
      "КОЛИЧЕСТВО УНИКАЛЬНЫХ ЗНАЧЕНИЙ:  10\n",
      "УНИКАЛЬНЫЕ ЗНАЧЕНИЯ:\n",
      " ['11' '10' '12' '9' '8.0.0' '6.0.1' '8.1.0' '7.0' '7.1.2' '7.1.1']\n",
      "------------------------------\n"
     ]
    }
   ],
   "source": [
    "for i in ['city', 'os_version']:\n",
    "    print(i)\n",
    "    print('КОЛИЧЕСТВО УНИКАЛЬНЫХ ЗНАЧЕНИЙ: ', len(df[i].unique()))\n",
    "    print(\"УНИКАЛЬНЫЕ ЗНАЧЕНИЯ:\\n\", df[i].unique())\n",
    "    print('-'*30)"
   ]
  },
  {
   "cell_type": "markdown",
   "id": "65073db3",
   "metadata": {},
   "source": [
    "У нас достаточно много уникальных городов, а вот версий OC всего 11.\n",
    "\n",
    "Я сначала займусь версиями ОС, потому что с ними легче, но перед этим...."
   ]
  },
  {
   "cell_type": "markdown",
   "id": "09596b47",
   "metadata": {},
   "source": [
    "# РАССЧИТАЕМ МИНИМАЛЬНЫЙ РАЗМЕР ВЫБОРКИ ДЛЯ ПРОВЕДЕНИЯ ИССЛЕДОВАНИЙ!!\n",
    "\n",
    "Я воспользуюсь онлайн-калькулятором: https://ru.surveymonkey.com/mp/sample-size-calculator/ <br>\n",
    "Степерь достоверности возьму в 95%, погрешность в 5%"
   ]
  },
  {
   "cell_type": "markdown",
   "id": "ceb46a1c",
   "metadata": {},
   "source": [
    "Количество наблюдений формата рекламы rv: 6482 <br>\n",
    "**Минимальное количество наблюдений для категории rv: 363**\n",
    "\n",
    "    \n",
    "Количество наблюдений формата рекламы int: 37613 <br>\n",
    "**Минимальное количество наблюдений для категории int: 381**\n",
    "\n",
    "\n",
    "Количество наблюдений формата рекламы banner: 815984 <br>\n",
    "**Минимальное количество наблюдений для категории banner: 384**"
   ]
  },
  {
   "cell_type": "code",
   "execution_count": 19,
   "id": "d16e4ef7",
   "metadata": {},
   "outputs": [],
   "source": [
    "rv_count = 363\n",
    "int_count = 381\n",
    "banner_count = 384"
   ]
  },
  {
   "cell_type": "markdown",
   "id": "5d8511d7",
   "metadata": {},
   "source": [
    "### ---------------------------------------------------------------------------------------------\n",
    "### OC"
   ]
  },
  {
   "cell_type": "code",
   "execution_count": 20,
   "id": "f40a0c62",
   "metadata": {},
   "outputs": [
    {
     "data": {
      "text/plain": [
       "ad_type  os_version\n",
       "banner   12            241388\n",
       "         11            130469\n",
       "         10             77903\n",
       "         9              35829\n",
       "         8.0.0           4074\n",
       "         8.1.0           3983\n",
       "         7.0              882\n",
       "         7.1.2            690\n",
       "         6.0.1            183\n",
       "         7.1.1              8\n",
       "int      12             10632\n",
       "         11              7270\n",
       "         10              3194\n",
       "         9               1626\n",
       "         8.0.0            182\n",
       "         8.1.0            141\n",
       "         7.0               62\n",
       "         7.1.2             31\n",
       "         6.0.1             13\n",
       "         7.1.1              3\n",
       "rv       12              2030\n",
       "         11              1366\n",
       "         10               483\n",
       "         9                238\n",
       "         8.0.0             34\n",
       "         8.1.0             11\n",
       "         6.0.1              3\n",
       "         7.0                1\n",
       "Name: os_version, dtype: int64"
      ]
     },
     "execution_count": 20,
     "metadata": {},
     "output_type": "execute_result"
    }
   ],
   "source": [
    "# Сначала просто посмотрим на количество каждой версии OC\n",
    "df.groupby('ad_type')['os_version'].value_counts()\n",
    "# Ага, у нас есть версии, которые представлены меньшим количеством наблюдений, нежели нам необходимо"
   ]
  },
  {
   "cell_type": "code",
   "execution_count": 21,
   "id": "7b816f2d",
   "metadata": {},
   "outputs": [
    {
     "data": {
      "text/plain": [
       "<AxesSubplot:xlabel='os_version', ylabel='count'>"
      ]
     },
     "execution_count": 21,
     "metadata": {},
     "output_type": "execute_result"
    },
    {
     "data": {
      "image/png": "[encoded data removed]",
      "text/plain": [
       "<Figure size 1080x504 with 1 Axes>"
      ]
     },
     "metadata": {
      "needs_background": "light"
     },
     "output_type": "display_data"
    }
   ],
   "source": [
    "# более наглядно это на графике\n",
    "sns.countplot(x=df['os_version'], hue=df['ad_type'], order=df['os_version'].value_counts().index, palette=\"Set3\")"
   ]
  },
  {
   "cell_type": "markdown",
   "id": "d91272ae",
   "metadata": {},
   "source": [
    "Не берем в расчет те позиции, количество наблюдений которых недостаточно для проведения статистических тестов"
   ]
  },
  {
   "cell_type": "code",
   "execution_count": 22,
   "id": "8b6c60fb",
   "metadata": {
    "scrolled": true
   },
   "outputs": [],
   "source": [
    "# для баннеров мы берем все категории, поэтому оставляем датасет без изменения\n",
    "\n",
    "# для int мы берем только версии 12, 11, 10 и 9\n",
    "int_df_os = int_df.loc[int_df['os_version'].isin(['12','11','10','9'])]\n",
    "\n",
    "# для rv мы тоже берем только версии 12, 11, 10 и 9\n",
    "rv_df_os = rv_df.loc[rv_df['os_version'].isin(['12','11','10','9'])]"
   ]
  },
  {
   "cell_type": "markdown",
   "id": "bfe96c94",
   "metadata": {},
   "source": [
    "### Посмотрим на средние значения ecpm в зависимости от ос:"
   ]
  },
  {
   "cell_type": "markdown",
   "id": "28c329ed",
   "metadata": {},
   "source": [
    "Сначала просто в цифрах:"
   ]
  },
  {
   "cell_type": "code",
   "execution_count": 23,
   "id": "4fbae308",
   "metadata": {},
   "outputs": [
    {
     "data": {
      "text/html": [
       "<div>\n",
       "<style scoped>\n",
       "    .dataframe tbody tr th:only-of-type {\n",
       "        vertical-align: middle;\n",
       "    }\n",
       "\n",
       "    .dataframe tbody tr th {\n",
       "        vertical-align: top;\n",
       "    }\n",
       "\n",
       "    .dataframe thead th {\n",
       "        text-align: right;\n",
       "    }\n",
       "</style>\n",
       "<table border=\"1\" class=\"dataframe\">\n",
       "  <thead>\n",
       "    <tr style=\"text-align: right;\">\n",
       "      <th></th>\n",
       "      <th>count</th>\n",
       "      <th>mean</th>\n",
       "      <th>std</th>\n",
       "      <th>min</th>\n",
       "      <th>25%</th>\n",
       "      <th>50%</th>\n",
       "      <th>75%</th>\n",
       "      <th>max</th>\n",
       "    </tr>\n",
       "    <tr>\n",
       "      <th>os_version</th>\n",
       "      <th></th>\n",
       "      <th></th>\n",
       "      <th></th>\n",
       "      <th></th>\n",
       "      <th></th>\n",
       "      <th></th>\n",
       "      <th></th>\n",
       "      <th></th>\n",
       "    </tr>\n",
       "  </thead>\n",
       "  <tbody>\n",
       "    <tr>\n",
       "      <th>10</th>\n",
       "      <td>77903.0</td>\n",
       "      <td>0.596246</td>\n",
       "      <td>1.098920e+00</td>\n",
       "      <td>0.000110</td>\n",
       "      <td>0.040490</td>\n",
       "      <td>0.494196</td>\n",
       "      <td>0.530292</td>\n",
       "      <td>20.430394</td>\n",
       "    </tr>\n",
       "    <tr>\n",
       "      <th>11</th>\n",
       "      <td>130469.0</td>\n",
       "      <td>0.562976</td>\n",
       "      <td>1.157816e+00</td>\n",
       "      <td>0.000215</td>\n",
       "      <td>0.025921</td>\n",
       "      <td>0.240152</td>\n",
       "      <td>0.517167</td>\n",
       "      <td>31.966212</td>\n",
       "    </tr>\n",
       "    <tr>\n",
       "      <th>12</th>\n",
       "      <td>241388.0</td>\n",
       "      <td>0.936277</td>\n",
       "      <td>1.598357e+00</td>\n",
       "      <td>0.000080</td>\n",
       "      <td>0.087492</td>\n",
       "      <td>0.496876</td>\n",
       "      <td>0.533385</td>\n",
       "      <td>41.421806</td>\n",
       "    </tr>\n",
       "    <tr>\n",
       "      <th>6.0.1</th>\n",
       "      <td>183.0</td>\n",
       "      <td>0.353189</td>\n",
       "      <td>1.010320e+00</td>\n",
       "      <td>0.002220</td>\n",
       "      <td>0.041249</td>\n",
       "      <td>0.069897</td>\n",
       "      <td>0.494196</td>\n",
       "      <td>6.827570</td>\n",
       "    </tr>\n",
       "    <tr>\n",
       "      <th>7.0</th>\n",
       "      <td>882.0</td>\n",
       "      <td>0.318541</td>\n",
       "      <td>7.331809e-01</td>\n",
       "      <td>0.007013</td>\n",
       "      <td>0.014251</td>\n",
       "      <td>0.044650</td>\n",
       "      <td>0.494196</td>\n",
       "      <td>6.557208</td>\n",
       "    </tr>\n",
       "    <tr>\n",
       "      <th>7.1.1</th>\n",
       "      <td>8.0</td>\n",
       "      <td>0.517167</td>\n",
       "      <td>1.186878e-16</td>\n",
       "      <td>0.517167</td>\n",
       "      <td>0.517167</td>\n",
       "      <td>0.517167</td>\n",
       "      <td>0.517167</td>\n",
       "      <td>0.517167</td>\n",
       "    </tr>\n",
       "    <tr>\n",
       "      <th>7.1.2</th>\n",
       "      <td>690.0</td>\n",
       "      <td>0.126915</td>\n",
       "      <td>2.952984e-01</td>\n",
       "      <td>0.001594</td>\n",
       "      <td>0.007213</td>\n",
       "      <td>0.011013</td>\n",
       "      <td>0.029133</td>\n",
       "      <td>2.386163</td>\n",
       "    </tr>\n",
       "    <tr>\n",
       "      <th>8.0.0</th>\n",
       "      <td>4074.0</td>\n",
       "      <td>0.538670</td>\n",
       "      <td>8.389351e-01</td>\n",
       "      <td>0.005462</td>\n",
       "      <td>0.059643</td>\n",
       "      <td>0.494196</td>\n",
       "      <td>0.530292</td>\n",
       "      <td>7.519341</td>\n",
       "    </tr>\n",
       "    <tr>\n",
       "      <th>8.1.0</th>\n",
       "      <td>3983.0</td>\n",
       "      <td>0.402337</td>\n",
       "      <td>6.279186e-01</td>\n",
       "      <td>0.001535</td>\n",
       "      <td>0.024095</td>\n",
       "      <td>0.494196</td>\n",
       "      <td>0.530292</td>\n",
       "      <td>7.519341</td>\n",
       "    </tr>\n",
       "    <tr>\n",
       "      <th>9</th>\n",
       "      <td>35829.0</td>\n",
       "      <td>0.435903</td>\n",
       "      <td>7.905934e-01</td>\n",
       "      <td>0.000289</td>\n",
       "      <td>0.023588</td>\n",
       "      <td>0.437656</td>\n",
       "      <td>0.515023</td>\n",
       "      <td>12.498382</td>\n",
       "    </tr>\n",
       "  </tbody>\n",
       "</table>\n",
       "</div>"
      ],
      "text/plain": [
       "               count      mean           std       min       25%       50%  \\\n",
       "os_version                                                                   \n",
       "10           77903.0  0.596246  1.098920e+00  0.000110  0.040490  0.494196   \n",
       "11          130469.0  0.562976  1.157816e+00  0.000215  0.025921  0.240152   \n",
       "12          241388.0  0.936277  1.598357e+00  0.000080  0.087492  0.496876   \n",
       "6.0.1          183.0  0.353189  1.010320e+00  0.002220  0.041249  0.069897   \n",
       "7.0            882.0  0.318541  7.331809e-01  0.007013  0.014251  0.044650   \n",
       "7.1.1            8.0  0.517167  1.186878e-16  0.517167  0.517167  0.517167   \n",
       "7.1.2          690.0  0.126915  2.952984e-01  0.001594  0.007213  0.011013   \n",
       "8.0.0         4074.0  0.538670  8.389351e-01  0.005462  0.059643  0.494196   \n",
       "8.1.0         3983.0  0.402337  6.279186e-01  0.001535  0.024095  0.494196   \n",
       "9            35829.0  0.435903  7.905934e-01  0.000289  0.023588  0.437656   \n",
       "\n",
       "                 75%        max  \n",
       "os_version                       \n",
       "10          0.530292  20.430394  \n",
       "11          0.517167  31.966212  \n",
       "12          0.533385  41.421806  \n",
       "6.0.1       0.494196   6.827570  \n",
       "7.0         0.494196   6.557208  \n",
       "7.1.1       0.517167   0.517167  \n",
       "7.1.2       0.029133   2.386163  \n",
       "8.0.0       0.530292   7.519341  \n",
       "8.1.0       0.530292   7.519341  \n",
       "9           0.515023  12.498382  "
      ]
     },
     "execution_count": 23,
     "metadata": {},
     "output_type": "execute_result"
    }
   ],
   "source": [
    "# для типа banner\n",
    "banner_df.groupby('os_version')['ecpm'].describe()"
   ]
  },
  {
   "cell_type": "code",
   "execution_count": 24,
   "id": "a94ba828",
   "metadata": {},
   "outputs": [
    {
     "data": {
      "text/html": [
       "<div>\n",
       "<style scoped>\n",
       "    .dataframe tbody tr th:only-of-type {\n",
       "        vertical-align: middle;\n",
       "    }\n",
       "\n",
       "    .dataframe tbody tr th {\n",
       "        vertical-align: top;\n",
       "    }\n",
       "\n",
       "    .dataframe thead th {\n",
       "        text-align: right;\n",
       "    }\n",
       "</style>\n",
       "<table border=\"1\" class=\"dataframe\">\n",
       "  <thead>\n",
       "    <tr style=\"text-align: right;\">\n",
       "      <th></th>\n",
       "      <th>count</th>\n",
       "      <th>mean</th>\n",
       "      <th>std</th>\n",
       "      <th>min</th>\n",
       "      <th>25%</th>\n",
       "      <th>50%</th>\n",
       "      <th>75%</th>\n",
       "      <th>max</th>\n",
       "    </tr>\n",
       "    <tr>\n",
       "      <th>os_version</th>\n",
       "      <th></th>\n",
       "      <th></th>\n",
       "      <th></th>\n",
       "      <th></th>\n",
       "      <th></th>\n",
       "      <th></th>\n",
       "      <th></th>\n",
       "      <th></th>\n",
       "    </tr>\n",
       "  </thead>\n",
       "  <tbody>\n",
       "    <tr>\n",
       "      <th>10</th>\n",
       "      <td>3194.0</td>\n",
       "      <td>33.295071</td>\n",
       "      <td>47.721905</td>\n",
       "      <td>1.215139</td>\n",
       "      <td>11.391233</td>\n",
       "      <td>20.160000</td>\n",
       "      <td>31.067597</td>\n",
       "      <td>921.145020</td>\n",
       "    </tr>\n",
       "    <tr>\n",
       "      <th>11</th>\n",
       "      <td>7270.0</td>\n",
       "      <td>31.675248</td>\n",
       "      <td>40.703278</td>\n",
       "      <td>0.441572</td>\n",
       "      <td>11.351300</td>\n",
       "      <td>20.160000</td>\n",
       "      <td>30.799355</td>\n",
       "      <td>650.000000</td>\n",
       "    </tr>\n",
       "    <tr>\n",
       "      <th>12</th>\n",
       "      <td>10632.0</td>\n",
       "      <td>42.213587</td>\n",
       "      <td>53.105608</td>\n",
       "      <td>0.580125</td>\n",
       "      <td>13.160984</td>\n",
       "      <td>23.632498</td>\n",
       "      <td>51.985721</td>\n",
       "      <td>937.195984</td>\n",
       "    </tr>\n",
       "    <tr>\n",
       "      <th>9</th>\n",
       "      <td>1626.0</td>\n",
       "      <td>26.981634</td>\n",
       "      <td>37.925286</td>\n",
       "      <td>0.000000</td>\n",
       "      <td>9.623232</td>\n",
       "      <td>17.393150</td>\n",
       "      <td>24.596382</td>\n",
       "      <td>350.000000</td>\n",
       "    </tr>\n",
       "  </tbody>\n",
       "</table>\n",
       "</div>"
      ],
      "text/plain": [
       "              count       mean        std       min        25%        50%  \\\n",
       "os_version                                                                  \n",
       "10           3194.0  33.295071  47.721905  1.215139  11.391233  20.160000   \n",
       "11           7270.0  31.675248  40.703278  0.441572  11.351300  20.160000   \n",
       "12          10632.0  42.213587  53.105608  0.580125  13.160984  23.632498   \n",
       "9            1626.0  26.981634  37.925286  0.000000   9.623232  17.393150   \n",
       "\n",
       "                  75%         max  \n",
       "os_version                         \n",
       "10          31.067597  921.145020  \n",
       "11          30.799355  650.000000  \n",
       "12          51.985721  937.195984  \n",
       "9           24.596382  350.000000  "
      ]
     },
     "execution_count": 24,
     "metadata": {},
     "output_type": "execute_result"
    }
   ],
   "source": [
    "# для типа int\n",
    "int_df_os.groupby('os_version')['ecpm'].describe()"
   ]
  },
  {
   "cell_type": "code",
   "execution_count": 25,
   "id": "bfff3658",
   "metadata": {},
   "outputs": [
    {
     "data": {
      "text/html": [
       "<div>\n",
       "<style scoped>\n",
       "    .dataframe tbody tr th:only-of-type {\n",
       "        vertical-align: middle;\n",
       "    }\n",
       "\n",
       "    .dataframe tbody tr th {\n",
       "        vertical-align: top;\n",
       "    }\n",
       "\n",
       "    .dataframe thead th {\n",
       "        text-align: right;\n",
       "    }\n",
       "</style>\n",
       "<table border=\"1\" class=\"dataframe\">\n",
       "  <thead>\n",
       "    <tr style=\"text-align: right;\">\n",
       "      <th></th>\n",
       "      <th>count</th>\n",
       "      <th>mean</th>\n",
       "      <th>std</th>\n",
       "      <th>min</th>\n",
       "      <th>25%</th>\n",
       "      <th>50%</th>\n",
       "      <th>75%</th>\n",
       "      <th>max</th>\n",
       "    </tr>\n",
       "    <tr>\n",
       "      <th>os_version</th>\n",
       "      <th></th>\n",
       "      <th></th>\n",
       "      <th></th>\n",
       "      <th></th>\n",
       "      <th></th>\n",
       "      <th></th>\n",
       "      <th></th>\n",
       "      <th></th>\n",
       "    </tr>\n",
       "  </thead>\n",
       "  <tbody>\n",
       "    <tr>\n",
       "      <th>10</th>\n",
       "      <td>483.0</td>\n",
       "      <td>62.831286</td>\n",
       "      <td>65.228644</td>\n",
       "      <td>2.510362</td>\n",
       "      <td>28.240000</td>\n",
       "      <td>35.257735</td>\n",
       "      <td>80.640000</td>\n",
       "      <td>597.984497</td>\n",
       "    </tr>\n",
       "    <tr>\n",
       "      <th>11</th>\n",
       "      <td>1366.0</td>\n",
       "      <td>49.845071</td>\n",
       "      <td>71.567015</td>\n",
       "      <td>1.149412</td>\n",
       "      <td>19.858686</td>\n",
       "      <td>28.240000</td>\n",
       "      <td>41.768826</td>\n",
       "      <td>915.771301</td>\n",
       "    </tr>\n",
       "    <tr>\n",
       "      <th>12</th>\n",
       "      <td>2030.0</td>\n",
       "      <td>81.851312</td>\n",
       "      <td>86.986268</td>\n",
       "      <td>1.555500</td>\n",
       "      <td>28.240000</td>\n",
       "      <td>36.156206</td>\n",
       "      <td>82.907089</td>\n",
       "      <td>916.205811</td>\n",
       "    </tr>\n",
       "    <tr>\n",
       "      <th>9</th>\n",
       "      <td>238.0</td>\n",
       "      <td>39.953895</td>\n",
       "      <td>49.984800</td>\n",
       "      <td>1.424175</td>\n",
       "      <td>16.478092</td>\n",
       "      <td>28.240000</td>\n",
       "      <td>31.468961</td>\n",
       "      <td>269.850006</td>\n",
       "    </tr>\n",
       "  </tbody>\n",
       "</table>\n",
       "</div>"
      ],
      "text/plain": [
       "             count       mean        std       min        25%        50%  \\\n",
       "os_version                                                                 \n",
       "10           483.0  62.831286  65.228644  2.510362  28.240000  35.257735   \n",
       "11          1366.0  49.845071  71.567015  1.149412  19.858686  28.240000   \n",
       "12          2030.0  81.851312  86.986268  1.555500  28.240000  36.156206   \n",
       "9            238.0  39.953895  49.984800  1.424175  16.478092  28.240000   \n",
       "\n",
       "                  75%         max  \n",
       "os_version                         \n",
       "10          80.640000  597.984497  \n",
       "11          41.768826  915.771301  \n",
       "12          82.907089  916.205811  \n",
       "9           31.468961  269.850006  "
      ]
     },
     "execution_count": 25,
     "metadata": {},
     "output_type": "execute_result"
    }
   ],
   "source": [
    "# для типа rv\n",
    "rv_df_os.groupby('os_version')['ecpm'].describe()"
   ]
  },
  {
   "cell_type": "markdown",
   "id": "a86f3664",
   "metadata": {},
   "source": [
    "В принципе уже на этот этапе можно понять, что в данных просто жутчайшие выбросы"
   ]
  },
  {
   "cell_type": "code",
   "execution_count": 56,
   "id": "e1506e6d",
   "metadata": {},
   "outputs": [
    {
     "data": {
      "text/plain": [
       "Text(0.5, 1.0, 'AD_TYPE: RV')"
      ]
     },
     "execution_count": 56,
     "metadata": {},
     "output_type": "execute_result"
    },
    {
     "data": {
      "image/png": "[encoded data removed]",
      "text/plain": [
       "<Figure size 1080x2160 with 3 Axes>"
      ]
     },
     "metadata": {
      "needs_background": "light"
     },
     "output_type": "display_data"
    }
   ],
   "source": [
    "# теперь построим ящики с усами\n",
    "fig, axes = plt.subplots(3,1, figsize=(15,30))\n",
    "\n",
    "sns.boxplot(x=int_df_os['ecpm'], y=int_df_os['os_version'], ax=axes[0])\n",
    "axes[0].set_title('AD_TYPE: INT')\n",
    "\n",
    "sns.boxplot(x=banner_df['ecpm'], y=banner_df['os_version'], ax=axes[1])\n",
    "axes[1].set_title('AD_TYPE: BANNER')\n",
    "\n",
    "sns.boxplot(x=rv_df_os['ecpm'], y=rv_df_os['os_version'], ax=axes[2])\n",
    "axes[2].set_title('AD_TYPE: RV')"
   ]
  },
  {
   "cell_type": "markdown",
   "id": "b8a0a9cc",
   "metadata": {},
   "source": [
    "Вне зависимости от формата рекламы мы видим, что у 10, 11 и 12 версий ecpm превышает ecpm других версий ос"
   ]
  },
  {
   "cell_type": "markdown",
   "id": "a8190ffa",
   "metadata": {},
   "source": [
    "p-value везде практически нулевой, поэтому делаем вывод, что различия между медианами есть, и они неслучайны.\n",
    "\n",
    "Думаю, что разница дисперсий тут в каком-то смысле даже более интересна."
   ]
  },
  {
   "cell_type": "markdown",
   "id": "b11edfa8",
   "metadata": {},
   "source": [
    "### ___________________________________________________________________________\n",
    "### CITY"
   ]
  },
  {
   "cell_type": "code",
   "execution_count": 27,
   "id": "83a5c791",
   "metadata": {},
   "outputs": [
    {
     "data": {
      "text/plain": [
       "New York         17384\n",
       "Minneapolis      12978\n",
       "Springfield      10135\n",
       "Houston          10135\n",
       "Charlotte         9716\n",
       "                 ...  \n",
       "Bellflower           1\n",
       "Suffolk              1\n",
       "Beaumont             1\n",
       "Columbia City        1\n",
       "Grove City           1\n",
       "Name: city, Length: 904, dtype: int64"
      ]
     },
     "execution_count": 27,
     "metadata": {},
     "output_type": "execute_result"
    }
   ],
   "source": [
    "df.city.value_counts()"
   ]
  },
  {
   "cell_type": "code",
   "execution_count": 28,
   "id": "6f9c7bce",
   "metadata": {},
   "outputs": [
    {
     "data": {
      "text/plain": [
       "<AxesSubplot:xlabel='city', ylabel='Count'>"
      ]
     },
     "execution_count": 28,
     "metadata": {},
     "output_type": "execute_result"
    },
    {
     "data": {
      "image/png": "[encoded data removed]",
      "text/plain": [
       "<Figure size 1080x504 with 1 Axes>"
      ]
     },
     "metadata": {
      "needs_background": "light"
     },
     "output_type": "display_data"
    }
   ],
   "source": [
    "sns.histplot(data=df.city.value_counts())"
   ]
  },
  {
   "cell_type": "markdown",
   "id": "c492a723",
   "metadata": {},
   "source": [
    "На графике видно, что почти 50% всех представленных городов встречаются всего несколько раз, а значит мы опять отбросим кучу городов..."
   ]
  },
  {
   "cell_type": "code",
   "execution_count": 29,
   "id": "2aae1e90",
   "metadata": {},
   "outputs": [
    {
     "name": "stderr",
     "output_type": "stream",
     "text": [
      "C:\\Users\\petti\\AppData\\Local\\Temp/ipykernel_15588/1128905600.py:3: SettingWithCopyWarning: \n",
      "A value is trying to be set on a copy of a slice from a DataFrame.\n",
      "Try using .loc[row_indexer,col_indexer] = value instead\n",
      "\n",
      "See the caveats in the documentation: https://pandas.pydata.org/pandas-docs/stable/user_guide/indexing.html#returning-a-view-versus-a-copy\n",
      "  dfr['city'] = dfr['city'].apply(lambda x: 'Other' if cities[x]<count else x)\n"
     ]
    }
   ],
   "source": [
    "def drop_cities(dfr, count):\n",
    "    cities = dict(dfr.city.value_counts())\n",
    "    dfr['city'] = dfr['city'].apply(lambda x: 'Other' if cities[x]<count else x)\n",
    "    dfr = dfr.loc[~dfr.city.isin(['Other'])]\n",
    "    return dfr\n",
    "\n",
    "banner_df_city = drop_cities(banner_df, banner_count)\n",
    "int_df_city = drop_cities(int_df, int_count)\n",
    "rv_df_city = drop_cities(rv_df, rv_count)"
   ]
  },
  {
   "cell_type": "code",
   "execution_count": 30,
   "id": "767160c2",
   "metadata": {},
   "outputs": [
    {
     "name": "stdout",
     "output_type": "stream",
     "text": [
      "INT\n",
      " Minneapolis    718\n",
      "New York       638\n",
      "Charlotte      495\n",
      "Houston        462\n",
      "Name: city, dtype: int64 \n",
      "\n",
      "RV\n",
      " Series([], Name: city, dtype: int64) \n",
      "\n",
      "BANNER\n",
      " New York            16617\n",
      "Minneapolis         12064\n",
      "Springfield          9769\n",
      "Houston              9576\n",
      "Charlotte            9164\n",
      "                    ...  \n",
      "Rancho Cordova        389\n",
      "Fairview Heights      387\n",
      "Waterloo              386\n",
      "Grants Pass           386\n",
      "Broomfield            386\n",
      "Name: city, Length: 274, dtype: int64 \n",
      "\n"
     ]
    }
   ],
   "source": [
    "print('INT\\n', int_df_city.city.value_counts(), '\\n')\n",
    "print('RV\\n', rv_df_city.city.value_counts(), '\\n')\n",
    "print('BANNER\\n', banner_df_city.city.value_counts(), '\\n')"
   ]
  },
  {
   "cell_type": "markdown",
   "id": "aa973317",
   "metadata": {},
   "source": [
    "Получается, что все города с форматом рекламы rv представлены в недостаточном для анализа количестве, поэтому никаких выводов по городам по этому формату сделать нельзя:(\n",
    "\n",
    "А еще городов с форматом рекламы banner слишком много, поэтому предлагаю посмотреть на топ-15 городов по медианной доходности"
   ]
  },
  {
   "cell_type": "code",
   "execution_count": 31,
   "id": "ac1f8539",
   "metadata": {},
   "outputs": [
    {
     "data": {
      "text/plain": [
       "Text(0.5, 1.0, 'AD_TYPE: BANNER')"
      ]
     },
     "execution_count": 31,
     "metadata": {},
     "output_type": "execute_result"
    },
    {
     "data": {
      "image/png": "[encoded data removed]",
      "text/plain": [
       "<Figure size 1440x1440 with 2 Axes>"
      ]
     },
     "metadata": {
      "needs_background": "light"
     },
     "output_type": "display_data"
    }
   ],
   "source": [
    "fig, axes = plt.subplots(2,1, figsize=(20,20))\n",
    "\n",
    "sns.barplot(data=int_df_city.groupby('city')['ecpm'].median().reset_index(), x='city', y='ecpm', palette=\"Set3\", ax=axes[0])\n",
    "axes[0].set_title('AD_TYPE: INT')\n",
    "\n",
    "sns.barplot(data=banner_df_city.groupby('city')['ecpm'].median().reset_index().sort_values(by='ecpm', ascending=False)[:15], \n",
    "            x='city', y='ecpm', palette=\"Set3\", ax=axes[1])\n",
    "axes[1].set_title('AD_TYPE: BANNER')"
   ]
  },
  {
   "cell_type": "markdown",
   "id": "5f9d6a87",
   "metadata": {},
   "source": [
    "## 1.C. Отобразить суммарные доходы по городам, версиям ОС"
   ]
  },
  {
   "cell_type": "markdown",
   "id": "288c530a",
   "metadata": {},
   "source": [
    "Так как revenue – доход от конкретного показа рекламы, то суммарным доходом считаем сумму всех значений revenue\n",
    "\n",
    "Для начала посмотрим на долю доходов от каждого формата рекламы:"
   ]
  },
  {
   "cell_type": "code",
   "execution_count": 33,
   "id": "4ba709b1",
   "metadata": {},
   "outputs": [
    {
     "data": {
      "image/png": "[encoded data removed]",
      "text/plain": [
       "<Figure size 1080x504 with 1 Axes>"
      ]
     },
     "metadata": {},
     "output_type": "display_data"
    }
   ],
   "source": [
    "colors = sns.color_palette('pastel')[0:20]\n",
    "\n",
    "pie_df = df.groupby('ad_type')['revenue'].sum().reset_index()\n",
    "plt.pie(x=pie_df['revenue'], \n",
    "        labels = pie_df['ad_type'], colors = colors, autopct='%.0f%%')\n",
    "plt.show()"
   ]
  },
  {
   "cell_type": "markdown",
   "id": "0b680f04",
   "metadata": {},
   "source": [
    "Более 50% доходов приносит реклама формата int... Interesting..."
   ]
  },
  {
   "cell_type": "markdown",
   "id": "48fe4c33",
   "metadata": {},
   "source": [
    "### На этот раз начнем с городов:"
   ]
  },
  {
   "cell_type": "markdown",
   "id": "506fa6bd",
   "metadata": {},
   "source": [
    "Сначала посмотрим на те города, количество наблюдений в которых статистически значимо:"
   ]
  },
  {
   "cell_type": "code",
   "execution_count": 34,
   "id": "9eccc44c",
   "metadata": {},
   "outputs": [
    {
     "data": {
      "text/plain": [
       "Text(0.5, 1.0, 'AD_TYPE: BANNER')"
      ]
     },
     "execution_count": 34,
     "metadata": {},
     "output_type": "execute_result"
    },
    {
     "data": {
      "image/png": "[encoded data removed]",
      "text/plain": [
       "<Figure size 1440x1440 with 2 Axes>"
      ]
     },
     "metadata": {
      "needs_background": "light"
     },
     "output_type": "display_data"
    }
   ],
   "source": [
    "fig, axes = plt.subplots(2,1, figsize=(20,20))\n",
    "\n",
    "sns.barplot(data=int_df_city.groupby('city')['revenue'].sum().reset_index(), x='city', y='revenue', palette=\"Set3\", ax=axes[0])\n",
    "axes[0].set_title('AD_TYPE: INT')\n",
    "\n",
    "sns.barplot(data=banner_df_city.groupby('city')['revenue'].sum().reset_index().sort_values(by='revenue', ascending=False)[:20], \n",
    "            x='city', y='revenue', palette=\"Set3\", ax=axes[1])\n",
    "axes[1].set_title('AD_TYPE: BANNER')"
   ]
  },
  {
   "cell_type": "markdown",
   "id": "5e222b68",
   "metadata": {},
   "source": [
    "А теперь можно посмотреть и на остальные:"
   ]
  },
  {
   "cell_type": "code",
   "execution_count": 35,
   "id": "5c0e705f",
   "metadata": {
    "scrolled": true
   },
   "outputs": [
    {
     "data": {
      "text/plain": [
       "Text(0.5, 1.0, 'AD_TYPE: RV')"
      ]
     },
     "execution_count": 35,
     "metadata": {},
     "output_type": "execute_result"
    },
    {
     "data": {
      "image/png": "[encoded data removed]",
      "text/plain": [
       "<Figure size 1440x1440 with 3 Axes>"
      ]
     },
     "metadata": {
      "needs_background": "light"
     },
     "output_type": "display_data"
    }
   ],
   "source": [
    "fig, axes = plt.subplots(3,1, figsize=(20,20))\n",
    "\n",
    "sns.barplot(data=df.loc[df['ad_type']=='int'].groupby('city')['revenue'].sum().reset_index().\\\n",
    "            sort_values(by='revenue', ascending=False)[:20], \n",
    "            x='city', y='revenue', palette=\"Set3\", ax=axes[0])\n",
    "axes[0].set_title('AD_TYPE: INT')\n",
    "\n",
    "sns.barplot(data=banner_df_city.groupby('city')['revenue'].sum().reset_index().sort_values(by='revenue', ascending=False)[:20], \n",
    "            x='city', y='revenue', palette=\"Set3\", ax=axes[1])\n",
    "axes[1].set_title('AD_TYPE: BANNER')\n",
    "\n",
    "sns.barplot(data=df.loc[df['ad_type']=='rv'].groupby('city')['revenue'].sum().reset_index().\\\n",
    "            sort_values(by='revenue', ascending=False)[:20],\n",
    "            x='city', y='revenue', palette=\"Set3\", ax=axes[2])\n",
    "axes[2].set_title('AD_TYPE: RV')"
   ]
  },
  {
   "cell_type": "markdown",
   "id": "e775f608",
   "metadata": {},
   "source": [
    "### Аналогично в случае с ОС:"
   ]
  },
  {
   "cell_type": "code",
   "execution_count": 36,
   "id": "17ae87ca",
   "metadata": {},
   "outputs": [
    {
     "data": {
      "text/plain": [
       "Text(0.5, 1.0, 'AD_TYPE: RV')"
      ]
     },
     "execution_count": 36,
     "metadata": {},
     "output_type": "execute_result"
    },
    {
     "data": {
      "image/png": "[encoded data removed]",
      "text/plain": [
       "<Figure size 1440x1440 with 3 Axes>"
      ]
     },
     "metadata": {
      "needs_background": "light"
     },
     "output_type": "display_data"
    }
   ],
   "source": [
    "fig, axes = plt.subplots(3,1, figsize=(20,20))\n",
    "\n",
    "sns.barplot(data=int_df_os.groupby('os_version')['revenue'].sum().reset_index(), \n",
    "            x='os_version', y='revenue', palette=\"Set3\", ax=axes[0])\n",
    "axes[0].set_title('AD_TYPE: INT')\n",
    "\n",
    "sns.barplot(data=banner_df.groupby('os_version')['revenue'].sum().reset_index(), \n",
    "            x='os_version', y='revenue', palette=\"Set3\", ax=axes[1])\n",
    "axes[1].set_title('AD_TYPE: BANNER')\n",
    "\n",
    "sns.barplot(data=rv_df_os.groupby('os_version')['revenue'].sum().reset_index(), \n",
    "            x='os_version', y='revenue', palette=\"Set3\", ax=axes[2])\n",
    "axes[2].set_title('AD_TYPE: RV')"
   ]
  },
  {
   "cell_type": "code",
   "execution_count": 37,
   "id": "7467f75b",
   "metadata": {},
   "outputs": [
    {
     "data": {
      "text/plain": [
       "Text(0.5, 1.0, 'AD_TYPE: RV')"
      ]
     },
     "execution_count": 37,
     "metadata": {},
     "output_type": "execute_result"
    },
    {
     "data": {
      "image/png": "[encoded data removed]",
      "text/plain": [
       "<Figure size 1440x1440 with 3 Axes>"
      ]
     },
     "metadata": {
      "needs_background": "light"
     },
     "output_type": "display_data"
    }
   ],
   "source": [
    "fig, axes = plt.subplots(3,1, figsize=(20,20))\n",
    "\n",
    "sns.barplot(data=df.loc[df['ad_type']=='int'].groupby('os_version')['revenue'].sum().reset_index(),\n",
    "            x='os_version', y='revenue', palette=\"Set3\", ax=axes[0])\n",
    "axes[0].set_title('AD_TYPE: INT')\n",
    "\n",
    "sns.barplot(data=banner_df_city.groupby('os_version')['revenue'].sum().reset_index(), \n",
    "            x='os_version', y='revenue', palette=\"Set3\", ax=axes[1])\n",
    "axes[1].set_title('AD_TYPE: BANNER')\n",
    "\n",
    "sns.barplot(data=df.loc[df['ad_type']=='rv'].groupby('os_version')['revenue'].sum().reset_index(),\n",
    "            x='os_version', y='revenue', palette=\"Set3\", ax=axes[2])\n",
    "axes[2].set_title('AD_TYPE: RV')"
   ]
  },
  {
   "cell_type": "markdown",
   "id": "187cb3d6",
   "metadata": {},
   "source": [
    "## Можно дополнительно посмотреть на pie - графики, чтобы понять общую долю каждой из версий в доходе"
   ]
  },
  {
   "cell_type": "code",
   "execution_count": 38,
   "id": "765ba16c",
   "metadata": {},
   "outputs": [
    {
     "data": {
      "image/png": "[encoded data removed]",
      "text/plain": [
       "<Figure size 1080x504 with 1 Axes>"
      ]
     },
     "metadata": {},
     "output_type": "display_data"
    }
   ],
   "source": [
    "int_pie = int_df_os.groupby('os_version')['revenue'].sum().reset_index()\n",
    "plt.pie(x=int_pie['revenue'], \n",
    "        labels = int_pie['os_version'], colors = colors, autopct='%.0f%%')\n",
    "plt.show()"
   ]
  },
  {
   "cell_type": "code",
   "execution_count": 39,
   "id": "8cb95dd3",
   "metadata": {},
   "outputs": [
    {
     "data": {
      "image/png": "[encoded data removed]",
      "text/plain": [
       "<Figure size 1080x504 with 1 Axes>"
      ]
     },
     "metadata": {},
     "output_type": "display_data"
    }
   ],
   "source": [
    "banner_pie = banner_df.groupby('os_version')['revenue'].sum().reset_index()\n",
    "plt.pie(x=banner_pie['revenue'], \n",
    "        labels = banner_pie['os_version'], colors = colors, autopct='%.0f%%')\n",
    "plt.show()"
   ]
  },
  {
   "cell_type": "code",
   "execution_count": 40,
   "id": "62d7c575",
   "metadata": {},
   "outputs": [
    {
     "data": {
      "image/png": "[encoded data removed]",
      "text/plain": [
       "<Figure size 1080x504 with 1 Axes>"
      ]
     },
     "metadata": {},
     "output_type": "display_data"
    }
   ],
   "source": [
    "rv_pie = rv_df_os.groupby('os_version')['revenue'].sum().reset_index()\n",
    "plt.pie(x=rv_pie['revenue'], \n",
    "        labels = rv_pie['os_version'], colors = colors, autopct='%.0f%%')\n",
    "plt.show()"
   ]
  },
  {
   "cell_type": "markdown",
   "id": "06fe0d65",
   "metadata": {},
   "source": [
    "# Краткие выводы:\n",
    "\n",
    "## Пункт 1.\n",
    "\n",
    "Были обнаружены статистически значимые различий между средними значениями eCPM-ов пользователей в зависимости от формата рекламы.<br>На основании медианных значений:\n",
    "\n",
    "MEDIAN: INT 24.596382139148503\n",
    "\n",
    "MEDIAN: BANNER 0.49687600000000004\n",
    "\n",
    "MEDIAN: RV 39.8617142857143\n",
    "\n",
    "Делаем вывод, что форматом рекламы с самым высоким средним ecpm является RV, а с самым низким - Banner\n",
    "\n",
    "## Пункт 2.\n",
    "\n",
    "Вне зависимости от формата рекламы мы видим, что у 10, 11 и 12 версий средний ecpm превышает средний ecpm других версий ос. <br>Думаю, что разница дисперсий тут в каком-то смысле даже более интересна.<br><br>\n",
    "**Для формата рекламы rv** наблюдений по городам недостаточно для проведения анализа.<br>**Для формата int** самый большой средний ecpm наблюдается в new york.<br>**Для формата banner** три города *(Clarks Summit, Gardenia, Waynesboro)* имеют средний ecpm, значительно превышающий ecpm в остальных городах.\n",
    "\n",
    "## Пункт 3.\n",
    "ОС 12 версии во всех 3х форматах рекламы приносит более 50% дохода, второе место занимает 11 версия, а третье - 10. Наблюдается четкая тенденция к увеличению дохода при увеличении версии.<br><br>\n",
    "Доходы по городам убывают более плавно. У форматов Banner и Int города с наибольшим количеством дохода очень сильно пересекаются и при этом почти не пересекаются с городами, где реклама формата rv приносит наибольший доход.<br><br>\n",
    "Однако, говоря о доходах, следует указать, что даже города, приносящие наибольший доход, составляют менее 3% от доли общего дохода (да, я взяла это не из головы, а посчитала, но ноутбук и так уже нагружен, поэтому этот кусочек кода сюда не включен)"
   ]
  },
  {
   "cell_type": "markdown",
   "id": "826a6586",
   "metadata": {},
   "source": [
    "# Зависит ли eCPM от времени дня?"
   ]
  },
  {
   "cell_type": "markdown",
   "id": "bdaaccd5",
   "metadata": {},
   "source": [
    "Я так понимаю, в качестве времени дня нужно брать столбец event_datetime, поэтому дальнейшие расчеты будут вестись, исходя из значений времени в этом столбце."
   ]
  },
  {
   "cell_type": "code",
   "execution_count": 55,
   "id": "11200359",
   "metadata": {
    "scrolled": false
   },
   "outputs": [
    {
     "data": {
      "text/html": [
       "<div>\n",
       "<style scoped>\n",
       "    .dataframe tbody tr th:only-of-type {\n",
       "        vertical-align: middle;\n",
       "    }\n",
       "\n",
       "    .dataframe tbody tr th {\n",
       "        vertical-align: top;\n",
       "    }\n",
       "\n",
       "    .dataframe thead th {\n",
       "        text-align: right;\n",
       "    }\n",
       "</style>\n",
       "<table border=\"1\" class=\"dataframe\">\n",
       "  <thead>\n",
       "    <tr style=\"text-align: right;\">\n",
       "      <th></th>\n",
       "      <th>ecpm</th>\n",
       "      <th>event_datetime</th>\n",
       "      <th>hour</th>\n",
       "    </tr>\n",
       "  </thead>\n",
       "  <tbody>\n",
       "    <tr>\n",
       "      <th>2</th>\n",
       "      <td>2.386163</td>\n",
       "      <td>2022-02-05 17:53:05</td>\n",
       "      <td>17</td>\n",
       "    </tr>\n",
       "    <tr>\n",
       "      <th>3</th>\n",
       "      <td>13.893784</td>\n",
       "      <td>2022-02-06 17:09:01</td>\n",
       "      <td>17</td>\n",
       "    </tr>\n",
       "    <tr>\n",
       "      <th>21</th>\n",
       "      <td>1.999664</td>\n",
       "      <td>2022-02-05 18:05:27</td>\n",
       "      <td>18</td>\n",
       "    </tr>\n",
       "    <tr>\n",
       "      <th>22</th>\n",
       "      <td>0.530292</td>\n",
       "      <td>2022-02-05 18:05:42</td>\n",
       "      <td>18</td>\n",
       "    </tr>\n",
       "    <tr>\n",
       "      <th>23</th>\n",
       "      <td>0.530292</td>\n",
       "      <td>2022-02-05 18:05:57</td>\n",
       "      <td>18</td>\n",
       "    </tr>\n",
       "    <tr>\n",
       "      <th>...</th>\n",
       "      <td>...</td>\n",
       "      <td>...</td>\n",
       "      <td>...</td>\n",
       "    </tr>\n",
       "    <tr>\n",
       "      <th>860074</th>\n",
       "      <td>0.019972</td>\n",
       "      <td>2022-02-03 08:29:27</td>\n",
       "      <td>8</td>\n",
       "    </tr>\n",
       "    <tr>\n",
       "      <th>860075</th>\n",
       "      <td>6.740355</td>\n",
       "      <td>2022-02-03 02:12:51</td>\n",
       "      <td>2</td>\n",
       "    </tr>\n",
       "    <tr>\n",
       "      <th>860076</th>\n",
       "      <td>2.780058</td>\n",
       "      <td>2022-02-03 02:13:06</td>\n",
       "      <td>2</td>\n",
       "    </tr>\n",
       "    <tr>\n",
       "      <th>860077</th>\n",
       "      <td>2.780058</td>\n",
       "      <td>2022-02-03 02:13:17</td>\n",
       "      <td>2</td>\n",
       "    </tr>\n",
       "    <tr>\n",
       "      <th>860078</th>\n",
       "      <td>2.780058</td>\n",
       "      <td>2022-02-03 03:11:44</td>\n",
       "      <td>3</td>\n",
       "    </tr>\n",
       "  </tbody>\n",
       "</table>\n",
       "<p>522729 rows × 3 columns</p>\n",
       "</div>"
      ],
      "text/plain": [
       "             ecpm      event_datetime  hour\n",
       "2        2.386163 2022-02-05 17:53:05    17\n",
       "3       13.893784 2022-02-06 17:09:01    17\n",
       "21       1.999664 2022-02-05 18:05:27    18\n",
       "22       0.530292 2022-02-05 18:05:42    18\n",
       "23       0.530292 2022-02-05 18:05:57    18\n",
       "...           ...                 ...   ...\n",
       "860074   0.019972 2022-02-03 08:29:27     8\n",
       "860075   6.740355 2022-02-03 02:12:51     2\n",
       "860076   2.780058 2022-02-03 02:13:06     2\n",
       "860077   2.780058 2022-02-03 02:13:17     2\n",
       "860078   2.780058 2022-02-03 03:11:44     3\n",
       "\n",
       "[522729 rows x 3 columns]"
      ]
     },
     "execution_count": 55,
     "metadata": {},
     "output_type": "execute_result"
    }
   ],
   "source": [
    "df_time = df[['ecpm', 'event_datetime']].copy()\n",
    "df_time['event_datetime'] = pd.to_datetime(df_time['event_datetime'])\n",
    "df_time['hour'] = df_time['event_datetime'].dt.hour\n",
    "df_time"
   ]
  },
  {
   "cell_type": "code",
   "execution_count": 60,
   "id": "b8b64317",
   "metadata": {},
   "outputs": [
    {
     "data": {
      "text/html": [
       "<div>\n",
       "<style scoped>\n",
       "    .dataframe tbody tr th:only-of-type {\n",
       "        vertical-align: middle;\n",
       "    }\n",
       "\n",
       "    .dataframe tbody tr th {\n",
       "        vertical-align: top;\n",
       "    }\n",
       "\n",
       "    .dataframe thead th {\n",
       "        text-align: right;\n",
       "    }\n",
       "</style>\n",
       "<table border=\"1\" class=\"dataframe\">\n",
       "  <thead>\n",
       "    <tr style=\"text-align: right;\">\n",
       "      <th></th>\n",
       "      <th>count</th>\n",
       "      <th>mean</th>\n",
       "      <th>std</th>\n",
       "      <th>min</th>\n",
       "      <th>25%</th>\n",
       "      <th>50%</th>\n",
       "      <th>75%</th>\n",
       "      <th>max</th>\n",
       "    </tr>\n",
       "    <tr>\n",
       "      <th>hour</th>\n",
       "      <th></th>\n",
       "      <th></th>\n",
       "      <th></th>\n",
       "      <th></th>\n",
       "      <th></th>\n",
       "      <th></th>\n",
       "      <th></th>\n",
       "      <th></th>\n",
       "    </tr>\n",
       "  </thead>\n",
       "  <tbody>\n",
       "    <tr>\n",
       "      <th>0</th>\n",
       "      <td>26486.0</td>\n",
       "      <td>2.710500</td>\n",
       "      <td>14.683248</td>\n",
       "      <td>0.000317</td>\n",
       "      <td>0.054187</td>\n",
       "      <td>0.496876</td>\n",
       "      <td>0.597983</td>\n",
       "      <td>921.145020</td>\n",
       "    </tr>\n",
       "    <tr>\n",
       "      <th>1</th>\n",
       "      <td>29001.0</td>\n",
       "      <td>2.936058</td>\n",
       "      <td>14.762412</td>\n",
       "      <td>0.000200</td>\n",
       "      <td>0.046000</td>\n",
       "      <td>0.496876</td>\n",
       "      <td>0.597983</td>\n",
       "      <td>269.850006</td>\n",
       "    </tr>\n",
       "    <tr>\n",
       "      <th>2</th>\n",
       "      <td>27505.0</td>\n",
       "      <td>2.657849</td>\n",
       "      <td>15.220701</td>\n",
       "      <td>0.000192</td>\n",
       "      <td>0.048877</td>\n",
       "      <td>0.496876</td>\n",
       "      <td>0.533385</td>\n",
       "      <td>937.195984</td>\n",
       "    </tr>\n",
       "    <tr>\n",
       "      <th>3</th>\n",
       "      <td>29977.0</td>\n",
       "      <td>2.704738</td>\n",
       "      <td>15.084573</td>\n",
       "      <td>0.000229</td>\n",
       "      <td>0.039620</td>\n",
       "      <td>0.437656</td>\n",
       "      <td>0.533385</td>\n",
       "      <td>601.758423</td>\n",
       "    </tr>\n",
       "    <tr>\n",
       "      <th>4</th>\n",
       "      <td>34575.0</td>\n",
       "      <td>2.724922</td>\n",
       "      <td>14.715124</td>\n",
       "      <td>0.000230</td>\n",
       "      <td>0.043350</td>\n",
       "      <td>0.437656</td>\n",
       "      <td>0.533385</td>\n",
       "      <td>516.894653</td>\n",
       "    </tr>\n",
       "    <tr>\n",
       "      <th>5</th>\n",
       "      <td>38824.0</td>\n",
       "      <td>2.925739</td>\n",
       "      <td>16.089703</td>\n",
       "      <td>0.000181</td>\n",
       "      <td>0.034093</td>\n",
       "      <td>0.437656</td>\n",
       "      <td>0.535226</td>\n",
       "      <td>619.201782</td>\n",
       "    </tr>\n",
       "    <tr>\n",
       "      <th>6</th>\n",
       "      <td>35405.0</td>\n",
       "      <td>2.889243</td>\n",
       "      <td>17.423825</td>\n",
       "      <td>0.000080</td>\n",
       "      <td>0.028589</td>\n",
       "      <td>0.437656</td>\n",
       "      <td>0.533385</td>\n",
       "      <td>650.000000</td>\n",
       "    </tr>\n",
       "    <tr>\n",
       "      <th>7</th>\n",
       "      <td>34610.0</td>\n",
       "      <td>2.792712</td>\n",
       "      <td>15.328674</td>\n",
       "      <td>0.000000</td>\n",
       "      <td>0.030668</td>\n",
       "      <td>0.437656</td>\n",
       "      <td>0.533385</td>\n",
       "      <td>740.319702</td>\n",
       "    </tr>\n",
       "    <tr>\n",
       "      <th>8</th>\n",
       "      <td>23876.0</td>\n",
       "      <td>3.236300</td>\n",
       "      <td>18.949758</td>\n",
       "      <td>0.000215</td>\n",
       "      <td>0.038656</td>\n",
       "      <td>0.496876</td>\n",
       "      <td>0.679700</td>\n",
       "      <td>915.771301</td>\n",
       "    </tr>\n",
       "    <tr>\n",
       "      <th>9</th>\n",
       "      <td>19167.0</td>\n",
       "      <td>3.432730</td>\n",
       "      <td>19.856817</td>\n",
       "      <td>0.000523</td>\n",
       "      <td>0.044267</td>\n",
       "      <td>0.496876</td>\n",
       "      <td>0.535226</td>\n",
       "      <td>916.205811</td>\n",
       "    </tr>\n",
       "    <tr>\n",
       "      <th>10</th>\n",
       "      <td>14116.0</td>\n",
       "      <td>2.613021</td>\n",
       "      <td>13.354779</td>\n",
       "      <td>0.001025</td>\n",
       "      <td>0.047865</td>\n",
       "      <td>0.496876</td>\n",
       "      <td>0.533385</td>\n",
       "      <td>592.472839</td>\n",
       "    </tr>\n",
       "    <tr>\n",
       "      <th>11</th>\n",
       "      <td>9206.0</td>\n",
       "      <td>3.185502</td>\n",
       "      <td>17.592146</td>\n",
       "      <td>0.000408</td>\n",
       "      <td>0.071774</td>\n",
       "      <td>0.496876</td>\n",
       "      <td>1.794148</td>\n",
       "      <td>641.958862</td>\n",
       "    </tr>\n",
       "    <tr>\n",
       "      <th>12</th>\n",
       "      <td>6529.0</td>\n",
       "      <td>2.922574</td>\n",
       "      <td>14.223639</td>\n",
       "      <td>0.000408</td>\n",
       "      <td>0.064388</td>\n",
       "      <td>0.494196</td>\n",
       "      <td>0.535226</td>\n",
       "      <td>334.716370</td>\n",
       "    </tr>\n",
       "    <tr>\n",
       "      <th>13</th>\n",
       "      <td>4779.0</td>\n",
       "      <td>3.509420</td>\n",
       "      <td>17.266916</td>\n",
       "      <td>0.000289</td>\n",
       "      <td>0.061199</td>\n",
       "      <td>0.494196</td>\n",
       "      <td>0.531158</td>\n",
       "      <td>295.575165</td>\n",
       "    </tr>\n",
       "    <tr>\n",
       "      <th>14</th>\n",
       "      <td>4854.0</td>\n",
       "      <td>2.917919</td>\n",
       "      <td>14.308678</td>\n",
       "      <td>0.000112</td>\n",
       "      <td>0.079542</td>\n",
       "      <td>0.515023</td>\n",
       "      <td>0.531158</td>\n",
       "      <td>211.700000</td>\n",
       "    </tr>\n",
       "    <tr>\n",
       "      <th>15</th>\n",
       "      <td>7383.0</td>\n",
       "      <td>2.535812</td>\n",
       "      <td>12.223172</td>\n",
       "      <td>0.000109</td>\n",
       "      <td>0.116082</td>\n",
       "      <td>0.504962</td>\n",
       "      <td>0.530292</td>\n",
       "      <td>268.272522</td>\n",
       "    </tr>\n",
       "    <tr>\n",
       "      <th>16</th>\n",
       "      <td>10826.0</td>\n",
       "      <td>2.880321</td>\n",
       "      <td>15.723138</td>\n",
       "      <td>0.000157</td>\n",
       "      <td>0.432453</td>\n",
       "      <td>0.494196</td>\n",
       "      <td>0.530292</td>\n",
       "      <td>446.467346</td>\n",
       "    </tr>\n",
       "    <tr>\n",
       "      <th>17</th>\n",
       "      <td>17668.0</td>\n",
       "      <td>3.376133</td>\n",
       "      <td>17.008701</td>\n",
       "      <td>0.000972</td>\n",
       "      <td>0.432453</td>\n",
       "      <td>0.510313</td>\n",
       "      <td>0.531158</td>\n",
       "      <td>446.467346</td>\n",
       "    </tr>\n",
       "    <tr>\n",
       "      <th>18</th>\n",
       "      <td>20117.0</td>\n",
       "      <td>2.889045</td>\n",
       "      <td>14.332979</td>\n",
       "      <td>0.000621</td>\n",
       "      <td>0.104313</td>\n",
       "      <td>0.494196</td>\n",
       "      <td>0.530292</td>\n",
       "      <td>355.726105</td>\n",
       "    </tr>\n",
       "    <tr>\n",
       "      <th>19</th>\n",
       "      <td>24148.0</td>\n",
       "      <td>2.902440</td>\n",
       "      <td>15.006182</td>\n",
       "      <td>0.000186</td>\n",
       "      <td>0.045773</td>\n",
       "      <td>0.494196</td>\n",
       "      <td>0.530292</td>\n",
       "      <td>601.758484</td>\n",
       "    </tr>\n",
       "    <tr>\n",
       "      <th>20</th>\n",
       "      <td>25677.0</td>\n",
       "      <td>2.534850</td>\n",
       "      <td>13.580145</td>\n",
       "      <td>0.000405</td>\n",
       "      <td>0.057375</td>\n",
       "      <td>0.494196</td>\n",
       "      <td>0.530292</td>\n",
       "      <td>423.439087</td>\n",
       "    </tr>\n",
       "    <tr>\n",
       "      <th>21</th>\n",
       "      <td>25947.0</td>\n",
       "      <td>2.687144</td>\n",
       "      <td>15.082356</td>\n",
       "      <td>0.000110</td>\n",
       "      <td>0.079358</td>\n",
       "      <td>0.494196</td>\n",
       "      <td>0.530292</td>\n",
       "      <td>921.145020</td>\n",
       "    </tr>\n",
       "    <tr>\n",
       "      <th>22</th>\n",
       "      <td>26353.0</td>\n",
       "      <td>2.418689</td>\n",
       "      <td>12.173523</td>\n",
       "      <td>0.000114</td>\n",
       "      <td>0.054386</td>\n",
       "      <td>0.494196</td>\n",
       "      <td>0.530292</td>\n",
       "      <td>325.693650</td>\n",
       "    </tr>\n",
       "    <tr>\n",
       "      <th>23</th>\n",
       "      <td>25700.0</td>\n",
       "      <td>2.628953</td>\n",
       "      <td>13.464552</td>\n",
       "      <td>0.000269</td>\n",
       "      <td>0.043350</td>\n",
       "      <td>0.494196</td>\n",
       "      <td>0.530292</td>\n",
       "      <td>280.095306</td>\n",
       "    </tr>\n",
       "  </tbody>\n",
       "</table>\n",
       "</div>"
      ],
      "text/plain": [
       "        count      mean        std       min       25%       50%       75%  \\\n",
       "hour                                                                         \n",
       "0     26486.0  2.710500  14.683248  0.000317  0.054187  0.496876  0.597983   \n",
       "1     29001.0  2.936058  14.762412  0.000200  0.046000  0.496876  0.597983   \n",
       "2     27505.0  2.657849  15.220701  0.000192  0.048877  0.496876  0.533385   \n",
       "3     29977.0  2.704738  15.084573  0.000229  0.039620  0.437656  0.533385   \n",
       "4     34575.0  2.724922  14.715124  0.000230  0.043350  0.437656  0.533385   \n",
       "5     38824.0  2.925739  16.089703  0.000181  0.034093  0.437656  0.535226   \n",
       "6     35405.0  2.889243  17.423825  0.000080  0.028589  0.437656  0.533385   \n",
       "7     34610.0  2.792712  15.328674  0.000000  0.030668  0.437656  0.533385   \n",
       "8     23876.0  3.236300  18.949758  0.000215  0.038656  0.496876  0.679700   \n",
       "9     19167.0  3.432730  19.856817  0.000523  0.044267  0.496876  0.535226   \n",
       "10    14116.0  2.613021  13.354779  0.001025  0.047865  0.496876  0.533385   \n",
       "11     9206.0  3.185502  17.592146  0.000408  0.071774  0.496876  1.794148   \n",
       "12     6529.0  2.922574  14.223639  0.000408  0.064388  0.494196  0.535226   \n",
       "13     4779.0  3.509420  17.266916  0.000289  0.061199  0.494196  0.531158   \n",
       "14     4854.0  2.917919  14.308678  0.000112  0.079542  0.515023  0.531158   \n",
       "15     7383.0  2.535812  12.223172  0.000109  0.116082  0.504962  0.530292   \n",
       "16    10826.0  2.880321  15.723138  0.000157  0.432453  0.494196  0.530292   \n",
       "17    17668.0  3.376133  17.008701  0.000972  0.432453  0.510313  0.531158   \n",
       "18    20117.0  2.889045  14.332979  0.000621  0.104313  0.494196  0.530292   \n",
       "19    24148.0  2.902440  15.006182  0.000186  0.045773  0.494196  0.530292   \n",
       "20    25677.0  2.534850  13.580145  0.000405  0.057375  0.494196  0.530292   \n",
       "21    25947.0  2.687144  15.082356  0.000110  0.079358  0.494196  0.530292   \n",
       "22    26353.0  2.418689  12.173523  0.000114  0.054386  0.494196  0.530292   \n",
       "23    25700.0  2.628953  13.464552  0.000269  0.043350  0.494196  0.530292   \n",
       "\n",
       "             max  \n",
       "hour              \n",
       "0     921.145020  \n",
       "1     269.850006  \n",
       "2     937.195984  \n",
       "3     601.758423  \n",
       "4     516.894653  \n",
       "5     619.201782  \n",
       "6     650.000000  \n",
       "7     740.319702  \n",
       "8     915.771301  \n",
       "9     916.205811  \n",
       "10    592.472839  \n",
       "11    641.958862  \n",
       "12    334.716370  \n",
       "13    295.575165  \n",
       "14    211.700000  \n",
       "15    268.272522  \n",
       "16    446.467346  \n",
       "17    446.467346  \n",
       "18    355.726105  \n",
       "19    601.758484  \n",
       "20    423.439087  \n",
       "21    921.145020  \n",
       "22    325.693650  \n",
       "23    280.095306  "
      ]
     },
     "execution_count": 60,
     "metadata": {},
     "output_type": "execute_result"
    }
   ],
   "source": [
    "df_time.groupby('hour')['ecpm'].describe()"
   ]
  },
  {
   "cell_type": "code",
   "execution_count": 63,
   "id": "1c74a6e4",
   "metadata": {},
   "outputs": [
    {
     "data": {
      "text/plain": [
       "<AxesSubplot:xlabel='hour', ylabel='ecpm'>"
      ]
     },
     "execution_count": 63,
     "metadata": {},
     "output_type": "execute_result"
    },
    {
     "data": {
      "image/png": "[encoded data removed]",
      "text/plain": [
       "<Figure size 1080x504 with 1 Axes>"
      ]
     },
     "metadata": {
      "needs_background": "light"
     },
     "output_type": "display_data"
    }
   ],
   "source": [
    "sns.boxplot(y=df_time['ecpm'], x=df_time['hour'])"
   ]
  },
  {
   "cell_type": "markdown",
   "id": "f843eb62",
   "metadata": {},
   "source": [
    "Ясно, опять выбросы. Тогда попробуем по-другому:"
   ]
  },
  {
   "cell_type": "code",
   "execution_count": 66,
   "id": "0c71ac65",
   "metadata": {},
   "outputs": [
    {
     "data": {
      "text/plain": [
       "<AxesSubplot:xlabel='hour', ylabel='ecpm'>"
      ]
     },
     "execution_count": 66,
     "metadata": {},
     "output_type": "execute_result"
    },
    {
     "data": {
      "image/png": "[encoded data removed]",
      "text/plain": [
       "<Figure size 1080x504 with 1 Axes>"
      ]
     },
     "metadata": {
      "needs_background": "light"
     },
     "output_type": "display_data"
    }
   ],
   "source": [
    "sns.lineplot(x=df_time['hour'], y=df_time['ecpm'])"
   ]
  },
  {
   "cell_type": "markdown",
   "id": "103b8808",
   "metadata": {},
   "source": [
    "## А вот тут уже заметны интересные тенденции.\n",
    "Похоже, что наибольший ecpm мы получаем в период с 9 до 17 дня. Пик приходится на 11 и 13 часов (можно предположить, что это из-за обеда) и на 8-9 часов утра (скорее всего люди играют сразу после того, как проснутся (заходят забрать ежедневные бонусы и все такое))"
   ]
  }
 ],
 "metadata": {
  "kernelspec": {
   "display_name": "Python 3 (ipykernel)",
   "language": "python",
   "name": "python3"
  },
  "language_info": {
   "codemirror_mode": {
    "name": "ipython",
    "version": 3
   },
   "file_extension": ".py",
   "mimetype": "text/x-python",
   "name": "python",
   "nbconvert_exporter": "python",
   "pygments_lexer": "ipython3",
   "version": "3.9.7"
  }
 },
 "nbformat": 4,
 "nbformat_minor": 5
}
