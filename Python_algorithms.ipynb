{
 "cells": [
  {
   "cell_type": "code",
   "execution_count": 19,
   "id": "ff46b100",
   "metadata": {},
   "outputs": [],
   "source": [
    "# Алгоритм бинарного поиска\n",
    "def binary_search(sorted_list, a):\n",
    "    n = len(sorted_list)//2\n",
    "    guess = sorted_list[n]\n",
    "    if (len(sorted_list) == 1) and (a != sorted_list[0]):\n",
    "        return False, 'Нельзя найти то, чего нет:)'\n",
    "    if (a > guess):\n",
    "        return binary_search(sorted_list[n:], a)\n",
    "    elif (a < guess):\n",
    "        return binary_search(sorted_list[:n], a)\n",
    "    elif (a == guess):\n",
    "        return True, f'Загаданное число: {guess}'"
   ]
  },
  {
   "cell_type": "code",
   "execution_count": 21,
   "id": "3212ca66",
   "metadata": {},
   "outputs": [
    {
     "name": "stdout",
     "output_type": "stream",
     "text": [
      "(True, 'Загаданное число: 5')\n"
     ]
    }
   ],
   "source": [
    "print(binary_search([1,2,3,4,5,6,7], 5))"
   ]
  },
  {
   "cell_type": "code",
   "execution_count": 13,
   "id": "1e9d3a60",
   "metadata": {},
   "outputs": [],
   "source": [
    "# Односвязный список\n",
    "class Node:\n",
    "    def __init__(self, value):\n",
    "        self.value = value\n",
    "        self.next = None"
   ]
  },
  {
   "cell_type": "code",
   "execution_count": 14,
   "id": "b70a95d0",
   "metadata": {},
   "outputs": [],
   "source": [
    "def print_nodes(node1):\n",
    "    print(node1.value)\n",
    "    if (node1.next != None):\n",
    "        print_nodes(node1.next)\n",
    "    else:\n",
    "        print('End of list!')"
   ]
  },
  {
   "cell_type": "code",
   "execution_count": 15,
   "id": "2b7df385",
   "metadata": {},
   "outputs": [
    {
     "name": "stdout",
     "output_type": "stream",
     "text": [
      "1\n",
      "2\n",
      "3\n",
      "End of list!\n"
     ]
    }
   ],
   "source": [
    "a = Node(1)\n",
    "b = Node(2)\n",
    "c = Node(3)\n",
    "\n",
    "a.next = b\n",
    "b.next = c\n",
    "\n",
    "print_nodes(a)"
   ]
  },
  {
   "cell_type": "code",
   "execution_count": 24,
   "id": "cf710bbc",
   "metadata": {},
   "outputs": [],
   "source": [
    "# Рекурсивная сумма\n",
    "def rec_sum(your_list):\n",
    "    if (len(your_list) == 0):\n",
    "        return 0\n",
    "    return your_list[0] + rec_sum(your_list[1:])"
   ]
  },
  {
   "cell_type": "code",
   "execution_count": 25,
   "id": "9d58ff62",
   "metadata": {},
   "outputs": [
    {
     "name": "stdout",
     "output_type": "stream",
     "text": [
      "15\n"
     ]
    }
   ],
   "source": [
    "print(rec_sum([1,2,3,4,5]))"
   ]
  },
  {
   "cell_type": "code",
   "execution_count": 42,
   "id": "ebc1b37c",
   "metadata": {},
   "outputs": [],
   "source": [
    "# Быстрая сортировка\n",
    "def quick_sort(array):\n",
    "    if len(array) < 2:\n",
    "        return array\n",
    "    basis = array[0]\n",
    "    less = [i for i in array[1:] if i <= basis]\n",
    "    greater = [i for i in array[1:] if i > basis]\n",
    "    return quick_sort(less) + [basis] + quick_sort(greater)"
   ]
  },
  {
   "cell_type": "code",
   "execution_count": 43,
   "id": "fefec662",
   "metadata": {},
   "outputs": [
    {
     "name": "stdout",
     "output_type": "stream",
     "text": [
      "[1, 2, 4, 5, 8, 9]\n"
     ]
    }
   ],
   "source": [
    "print(quick_sort([5,1,8,2,4,9]))"
   ]
  },
  {
   "cell_type": "code",
   "execution_count": 1,
   "id": "a9819b40",
   "metadata": {},
   "outputs": [],
   "source": [
    "# Алгоритм поиска в ширину\n",
    "from collections import deque\n",
    "\n",
    "def graph_search(graph, first, check_func):\n",
    "    search_deq = deque()\n",
    "    marked = []\n",
    "    search_deq += graph[first]\n",
    "    while search_deq:\n",
    "        element = search_deq.popleft()\n",
    "        if not(element in marked):\n",
    "            if check_func(element):\n",
    "                print('SUCCESS!')\n",
    "                return element\n",
    "            else:\n",
    "                marked.append(element)\n",
    "                search_deq += graph[element]\n",
    "    return 'THE SEARCH WAS UNSUCCESSFUL'"
   ]
  },
  {
   "cell_type": "code",
   "execution_count": 2,
   "id": "494774c0",
   "metadata": {},
   "outputs": [],
   "source": [
    "class my_deque:\n",
    "    def __init__(self):\n",
    "        self.deque = []\n",
    "    def append(self, elem):\n",
    "        self.deque.append(elem)\n",
    "    def pop(self):\n",
    "        if len(self.deque) == 0:\n",
    "            return None\n",
    "        removed = self.deque.pop(0)\n",
    "        return removed"
   ]
  },
  {
   "cell_type": "code",
   "execution_count": 7,
   "id": "b586c3f9",
   "metadata": {},
   "outputs": [
    {
     "name": "stdout",
     "output_type": "stream",
     "text": [
      "{'a': 'b', 'b': 'start', 'c': 'a', 'd': 'b', 'finish': 'c'} \n",
      " {'a': 3, 'b': 2, 'c': 6, 'd': 6, 'finish': 8}\n"
     ]
    }
   ],
   "source": [
    "# Алгоритм Дейкстры\n",
    "graph = {}\n",
    "graph['start'] = {}\n",
    "graph['a'] = {}\n",
    "graph['b'] = {}\n",
    "graph['c'] = {}\n",
    "graph['d'] = {}\n",
    "graph['start']['a'] = 6\n",
    "graph['start']['b'] = 2\n",
    "graph['a']['c'] = 3\n",
    "graph['b']['a'] = 1\n",
    "graph['b']['d'] = 4\n",
    "graph['c']['finish'] = 2\n",
    "graph['d']['finish'] = 5\n",
    "graph['finish'] = {}\n",
    "\n",
    "costs = {}\n",
    "costs['a'] = 6\n",
    "costs['b'] = 2\n",
    "costs['c'] = costs['d'] = costs['finish'] = float('inf')\n",
    "\n",
    "parents = {}\n",
    "parents['a'] = parents['b'] = 'start'\n",
    "parents['c'] = parents['d'] = parents['finish'] = None\n",
    "\n",
    "def find_lowest_cost(cost, processed):\n",
    "    min_node = None\n",
    "    min_cost = float('inf')\n",
    "    for index, value in cost.items():\n",
    "        if (value < min_cost) and (index not in processed):\n",
    "            min_cost = value\n",
    "            min_node = index\n",
    "    return min_node\n",
    "\n",
    "def deikstra(graph, costs, parents):\n",
    "    processed = []\n",
    "    node = find_lowest_cost(costs, processed)\n",
    "    while node is not None:\n",
    "        neigh = graph[node]\n",
    "        cost = costs[node]\n",
    "        for i in neigh.keys():\n",
    "            new_cost = cost + neigh[i]\n",
    "            if new_cost < costs[i]:\n",
    "                costs[i] = new_cost\n",
    "                parents[i] = node\n",
    "        processed.append(node)\n",
    "        node = find_lowest_cost(costs, processed)\n",
    "    print(parents, '\\n', costs)\n",
    "\n",
    "deikstra(graph, costs, parents)"
   ]
  },
  {
   "cell_type": "code",
   "execution_count": 23,
   "id": "b743afc3",
   "metadata": {},
   "outputs": [],
   "source": [
    "# Жадный алгоритм\n",
    "states = set(['mt', 'wa', 'or', 'id', 'nv', 'ut', 'ca', 'az'])\n",
    "stations = {'kone': set(['id', 'nv', 'ut']), \n",
    "            'ktwo': set(['wa', 'id', 'mt']),\n",
    "           'kthree': set(['or', 'nv', 'ca']),\n",
    "           'kfour': set(['nv', 'ut']),\n",
    "           'kfive': set(['ca', 'az'])}\n",
    "\n",
    "def greedy_algorythm(our_dict, objects):\n",
    "    needed = objects\n",
    "    result = set()\n",
    "    while needed:\n",
    "        covered = set()\n",
    "        best_station = None\n",
    "        for index, value in our_dict.items():\n",
    "            n = needed & value\n",
    "            if len(n) > len(covered):\n",
    "                print(n)\n",
    "                best_station = index\n",
    "                covered = n\n",
    "        needed -= covered\n",
    "        result.add(best_station)\n",
    "    print(result)"
   ]
  },
  {
   "cell_type": "code",
   "execution_count": 24,
   "id": "f0da9d27",
   "metadata": {},
   "outputs": [
    {
     "name": "stdout",
     "output_type": "stream",
     "text": [
      "{'ut', 'id', 'nv'}\n",
      "{'mt', 'wa'}\n",
      "{'or', 'ca'}\n",
      "{'az'}\n",
      "{'kfive', 'ktwo', 'kone', 'kthree'}\n"
     ]
    }
   ],
   "source": [
    "greedy_algorythm(stations, states)"
   ]
  },
  {
   "cell_type": "code",
   "execution_count": 6,
   "id": "3cb9808c",
   "metadata": {},
   "outputs": [
    {
     "name": "stdout",
     "output_type": "stream",
     "text": [
      "Значение найдено!\n",
      "8\n"
     ]
    }
   ],
   "source": [
    "# Алгоритм поиска в бинарном дереве\n",
    "class BinaryTree():\n",
    "    def __init__(self, key):\n",
    "        self.key = key\n",
    "        self.right = None\n",
    "        self.left = None\n",
    "    def setRightNode(self, node):\n",
    "        self.right = node\n",
    "    def setLeftNode(self, node):\n",
    "        self.left = node\n",
    "\n",
    "def search(start, value):\n",
    "        if start.key == value:\n",
    "            print('Значение найдено!')\n",
    "            return value\n",
    "        else:\n",
    "            if (value > start.key) and (start.right != None):\n",
    "                return search(start.right, value)\n",
    "            elif (value < start.key) and (start.left != None):\n",
    "                return search(start.left, value)\n",
    "            else:\n",
    "                print('Значение не было найдено')\n",
    "                return None\n",
    "            \n",
    "tree = BinaryTree(4)\n",
    "node1 = BinaryTree(1)\n",
    "node2 = BinaryTree(5)\n",
    "node3 = BinaryTree(8)\n",
    "node4 = BinaryTree(2)\n",
    "tree.setRightNode(node3)\n",
    "node3.setLeftNode(node2)\n",
    "tree.setLeftNode(node4)\n",
    "node4.setLeftNode(node1)\n",
    "\n",
    "print(search(tree, 8))"
   ]
  },
  {
   "cell_type": "code",
   "execution_count": 5,
   "id": "6502b31d",
   "metadata": {},
   "outputs": [
    {
     "name": "stdout",
     "output_type": "stream",
     "text": [
      "[1, 2, 3]\n",
      "[3, 2, 1]\n"
     ]
    }
   ],
   "source": [
    "# Сортировка вставкой\n",
    "def insert_search(your_list):\n",
    "    for j in range(1, len(your_list)):\n",
    "        elem = your_list[j]\n",
    "        i = j-1\n",
    "        while ((i>=0) and (your_list[i]>elem)):\n",
    "            your_list[i+1] = your_list[i]\n",
    "            i -=1\n",
    "        your_list[i+1] = elem\n",
    "    return your_list\n",
    "\n",
    "print(insert_search([3,2,1]))\n",
    "'''Берем второй элемент нашего списка, берем предыдущий и сравниваем их между собой'''\n",
    "\n",
    "def insert_search_desc(your_list):\n",
    "    for j in range(1, len(your_list)):\n",
    "        elem = your_list[j]\n",
    "        i = j-1\n",
    "        while ((i>=0) and your_list[i]<elem):\n",
    "            your_list[i+1] = your_list[i]\n",
    "            i -= 1\n",
    "        your_list[i+1] = elem\n",
    "    return your_list\n",
    "\n",
    "print(insert_search_desc(insert_search([3,2,1])))"
   ]
  },
  {
   "cell_type": "code",
   "execution_count": 2,
   "id": "45cbe7f5",
   "metadata": {},
   "outputs": [
    {
     "name": "stdout",
     "output_type": "stream",
     "text": [
      "3\n",
      "3 4\n",
      "1\n",
      "1 2\n",
      "1\n",
      "1 1\n",
      "2\n",
      "2 2\n",
      "1\n",
      "1 1\n",
      "1\n",
      "1 1\n",
      "[0, 1, 2, 3, 4, 7, 9]\n"
     ]
    }
   ],
   "source": [
    "# сортировка слиянием \n",
    "import math\n",
    "def merge_sort(your_list):\n",
    "    i = len(your_list)//2\n",
    "    print(i)\n",
    "    left = your_list[:i]\n",
    "    right = your_list[i:]\n",
    "    print(len(left), len(right))\n",
    "    if (len(left) > 1):\n",
    "        left = merge_sort(left)\n",
    "    if (len(right) > 1):\n",
    "        right = merge_sort(right)\n",
    "    return merge(left, right)\n",
    "\n",
    "def merge(left, right):\n",
    "    sorted_list = []\n",
    "    i,j = 0,0\n",
    "    while i < len(right) and j < len(left):\n",
    "        if right[i] > left[j]:\n",
    "            sorted_list.append(left[j])\n",
    "            j += 1\n",
    "        else:\n",
    "            sorted_list.append(right[i])\n",
    "            i += 1\n",
    "    return sorted_list + left[j:] + right[i:]\n",
    "\n",
    "print(merge_sort([3,4,7,2,9,1,0]))"
   ]
  },
  {
   "cell_type": "code",
   "execution_count": 24,
   "id": "2fb6caa3",
   "metadata": {},
   "outputs": [
    {
     "name": "stdout",
     "output_type": "stream",
     "text": [
      "4\n",
      "3\n",
      "2\n",
      "1\n",
      "0\n"
     ]
    }
   ],
   "source": [
    "for i in range(4,-1,-1):\n",
    "    print(i)"
   ]
  },
  {
   "cell_type": "code",
   "execution_count": 1,
   "id": "37f78aeb",
   "metadata": {},
   "outputs": [
    {
     "name": "stdout",
     "output_type": "stream",
     "text": [
      "left_sum: -2\n",
      "[-2, -4]\n",
      "-2\n",
      "-4\n",
      "-6\n",
      "left_sum: -2\n",
      "left_sum: -9\n",
      "[-9, -1]\n",
      "-9\n",
      "-1\n",
      "-10\n",
      "[-2, -4, -9, -1]\n",
      "-4\n",
      "-6\n",
      "-9\n",
      "-10\n",
      "-13\n",
      "-1\n"
     ]
    }
   ],
   "source": [
    "#поиск максимального подмассива\n",
    "def find_max_subarray_rec(array):\n",
    "    print(array)\n",
    "    mid = len(array)//2\n",
    "    left_sum = float('-inf')\n",
    "    max_sum = 0\n",
    "    for i in range(mid-1, -1, -1):\n",
    "        max_sum += array[i]\n",
    "        print(max_sum)\n",
    "        if max_sum > left_sum:\n",
    "            left_sum = max_sum     \n",
    "    \n",
    "    right_sum = float('-inf')\n",
    "    max_sum = 0\n",
    "    for i in range(mid, len(array)):\n",
    "        max_sum += array[i]\n",
    "        print(max_sum)\n",
    "        if max_sum > right_sum:\n",
    "            right_sum = max_sum\n",
    "    print(left_sum + right_sum)\n",
    "    return left_sum + right_sum\n",
    "\n",
    "def find_max_subarray(array):\n",
    "    if (len(array) in [0,1]):\n",
    "        return array[0]\n",
    "    mid = len(array)//2\n",
    "    left_sum = find_max_subarray(array[:mid])\n",
    "    print('left_sum:', left_sum)\n",
    "    right_sum = find_max_subarray(array[mid:])\n",
    "    (cross_sum) = find_max_subarray_rec(array)\n",
    "    if (left_sum >= right_sum) and (left_sum > cross_sum):\n",
    "        return left_sum\n",
    "    elif (left_sum < right_sum) and (right_sum > cross_sum):\n",
    "        return right_sum\n",
    "    else:\n",
    "        return cross_sum\n",
    "    \n",
    "print(find_max_subarray([-2, -4, -9, -1]))"
   ]
  },
  {
   "cell_type": "code",
   "execution_count": 10,
   "id": "0b9de370",
   "metadata": {},
   "outputs": [],
   "source": [
    "#умножение матриц\n",
    "import numpy as np\n",
    "# можно перемножить матрицы, если количество столбцов в первой совпадает с количеством строк во второй\n",
    "# размер исходной матрицы равен количеству строчек в первой на количество столбцов во второй\n",
    "def mul_matrix(a,b):\n",
    "    if (len(a[0]) != len(b)):\n",
    "        return None\n",
    "    c = np.zeros((len(a), len(b[0])))\n",
    "    for i in range(0, len(a)):\n",
    "        for j in range(0, len(b[0])):\n",
    "            c[i][j] = 0\n",
    "            for k in range(0, len(b)):\n",
    "                c[i][j] += a[i][k] * b[k][j]\n",
    "    return c"
   ]
  },
  {
   "cell_type": "code",
   "execution_count": 11,
   "id": "9a75d983",
   "metadata": {},
   "outputs": [
    {
     "name": "stdout",
     "output_type": "stream",
     "text": [
      "[[18. 24.]\n",
      " [51. 66.]]\n"
     ]
    }
   ],
   "source": [
    "a = [[1, 2, 3],\n",
    "    [4, 5, 6]]\n",
    "b = [[7,8],\n",
    "    [1,2],\n",
    "    [3,4]]\n",
    "\n",
    "print(mul_matrix(a,b))"
   ]
  },
  {
   "cell_type": "code",
   "execution_count": 3,
   "id": "28792468",
   "metadata": {},
   "outputs": [],
   "source": [
    "#Сито Эрлиха\n",
    "def erlich(n):\n",
    "    not_simple_nums = []\n",
    "    simple_nums = []\n",
    "    for i in range(2, n+1):\n",
    "        if i not in not_simple_nums:\n",
    "            simple_nums.append(i)\n",
    "            not_simple_nums.extend([j for j in range(i*2, n+1, i)])\n",
    "    return simple_nums"
   ]
  },
  {
   "cell_type": "code",
   "execution_count": 5,
   "id": "d257b94a",
   "metadata": {},
   "outputs": [
    {
     "name": "stdout",
     "output_type": "stream",
     "text": [
      "[2, 3, 5, 7, 11, 13, 17, 19, 23, 29, 31, 37, 41, 43, 47, 53, 59, 61, 67, 71, 73, 79, 83, 89, 97]\n"
     ]
    }
   ],
   "source": [
    "print(erlich(100))"
   ]
  },
  {
   "cell_type": "code",
   "execution_count": 13,
   "id": "0e67931b",
   "metadata": {},
   "outputs": [
    {
     "name": "stdout",
     "output_type": "stream",
     "text": [
      "largest - 2 root - 2\n",
      "largest - 3 root - 1\n",
      "largest - 3 root - 3\n",
      "largest - 1 root - 0\n",
      "largest - 3 root - 1\n",
      "largest - 3 root - 3\n",
      "[8, 6, 1, 4, 3]\n",
      "largest - 1 root - 0\n",
      "largest - 3 root - 1\n",
      "largest - 3 root - 3\n",
      "largest - 1 root - 0\n",
      "largest - 1 root - 1\n",
      "largest - 1 root - 0\n",
      "largest - 1 root - 1\n",
      "largest - 0 root - 0\n",
      "[1, 3, 4, 6, 8]\n"
     ]
    }
   ],
   "source": [
    "#пирамидальная сортировка\n",
    "def left(index):\n",
    "    return index*2 + 1\n",
    "def right(index):\n",
    "    return index*2 + 2\n",
    "\n",
    "#делаем так, чтобы в узлах были нормальные значения, строим пирамидку\n",
    "def max_heap(your_list, heap_size, root_index):\n",
    "    largest = root_index\n",
    "    l = left(root_index)\n",
    "    r = right(root_index)\n",
    "    \n",
    "    if l < heap_size and your_list[l] > your_list[largest]:\n",
    "        largest = l\n",
    "    if r < heap_size and your_list[r] > your_list[largest]:\n",
    "        largest = r\n",
    "    print('largest -', largest, 'root -', root_index)\n",
    "    if largest != root_index:\n",
    "        your_list[root_index], your_list[largest] = your_list[largest], your_list[root_index]\n",
    "        max_heap(your_list, heap_size, largest)\n",
    "\n",
    "def heapify(your_list):\n",
    "    n = len(your_list)-1\n",
    "    for i in range(n//2, -1, -1):\n",
    "        max_heap(your_list, n, i)\n",
    "    print(your_list)\n",
    "    for i in range(n, 0, -1):\n",
    "        your_list[i], your_list[0] = your_list[0], your_list[i]\n",
    "        max_heap(your_list, i, 0)\n",
    "        \n",
    "    return your_list\n",
    "\n",
    "print(heapify([4,6,1,8,3]))"
   ]
  },
  {
   "cell_type": "code",
   "execution_count": 27,
   "id": "4ac6e425",
   "metadata": {},
   "outputs": [
    {
     "name": "stdout",
     "output_type": "stream",
     "text": [
      "1\n"
     ]
    }
   ],
   "source": [
    "#алгоритм Евклида\n",
    "def find_nod(a, b):\n",
    "    while a!= 0 and b!= 0:\n",
    "        if (a < b):\n",
    "            b = b%a\n",
    "        else:\n",
    "            a = a%b\n",
    "    return a + b\n",
    "\n",
    "print(find_nod(8, 45))"
   ]
  },
  {
   "cell_type": "code",
   "execution_count": 1,
   "id": "33505948",
   "metadata": {},
   "outputs": [],
   "source": [
    "#алгоритм быстрого нахождения степени\n",
    "def mult(a,n):\n",
    "    result = 1\n",
    "    mul = a\n",
    "    while(n!=0):\n",
    "        if n%2 == 1:\n",
    "            result *= mul\n",
    "        mul *= mul\n",
    "        n = n//2\n",
    "    return result"
   ]
  },
  {
   "cell_type": "code",
   "execution_count": 7,
   "id": "8c9028cd",
   "metadata": {},
   "outputs": [
    {
     "name": "stdout",
     "output_type": "stream",
     "text": [
      "1024\n"
     ]
    }
   ],
   "source": [
    "print(mult(2,10))"
   ]
  },
  {
   "cell_type": "code",
   "execution_count": 5,
   "id": "0b4ef838",
   "metadata": {},
   "outputs": [],
   "source": [
    "def stupenki(a):\n",
    "    prev = 1\n",
    "    curr = 1\n",
    "    for i in range(2,a+1):\n",
    "        next_el = prev + curr\n",
    "        prev = curr\n",
    "        curr = next_el\n",
    "    return curr"
   ]
  },
  {
   "cell_type": "code",
   "execution_count": 7,
   "id": "ec0bcd33",
   "metadata": {},
   "outputs": [
    {
     "name": "stdout",
     "output_type": "stream",
     "text": [
      "8\n"
     ]
    }
   ],
   "source": [
    "print(stupenki(5))"
   ]
  },
  {
   "cell_type": "code",
   "execution_count": 13,
   "id": "19c753d8",
   "metadata": {},
   "outputs": [
    {
     "name": "stdout",
     "output_type": "stream",
     "text": [
      "6\n",
      "4\n"
     ]
    }
   ],
   "source": [
    "def waterfall(a):\n",
    "    result = 0\n",
    "    max_index = 0\n",
    "    for i in range(1, len(a)):\n",
    "        if a[i] > a[max_index]:\n",
    "            max_index = i\n",
    "            \n",
    "    max_left = 0\n",
    "    for i in range(0, max_index):\n",
    "        if a[i] < max_left:\n",
    "            result += max_left - a[i]\n",
    "        max_left = max(max_left, a[i])\n",
    "    \n",
    "    max_right = 0\n",
    "    for i in range(len(a)-1, max_index, -1):\n",
    "        if a[i] < max_right:\n",
    "            result += max_right - a[i]\n",
    "        max_right = max(max_right, a[i])\n",
    "    \n",
    "    return result\n",
    "print(waterfall([1,2,6,4,2,5]))"
   ]
  },
  {
   "cell_type": "code",
   "execution_count": null,
   "id": "42416751",
   "metadata": {},
   "outputs": [],
   "source": [
    "# связанные списки\n",
    "class Node():\n",
    "    def __init__(self, value):\n",
    "        self.value = value\n",
    "        self.next_node = None\n",
    "\n",
    "class LinkedList():\n",
    "    \n",
    "    def __init__(self):\n",
    "        self.head = None\n",
    "        self.tail = None\n",
    "        self.size = 0 \n",
    "        \n",
    "    def addElemInTail(self, elem):\n",
    "        if self.size == 0:\n",
    "            self.head = Node(elem)\n",
    "        else:\n",
    "            if self.tail != None:\n",
    "                self.tail.next_node = Node(elem)\n",
    "            self.tail = Node(elem)\n",
    "        self.size += 1\n",
    "        \n",
    "    def getElem(self, index):\n",
    "        if index >= self.size:\n",
    "            return -1\n",
    "        \n",
    "        curr = self.head\n",
    "        for i in range(index):\n",
    "            curr = curr.next_node\n",
    "        return curr.value\n",
    "    \n",
    "    def insert(self, index, elem):\n",
    "        if index >= self.size:\n",
    "            return -1\n",
    "        \n",
    "        curr = self.head\n",
    "        new_elem = Node(elem)\n",
    "        for i in range(index):\n",
    "            curr = curr.next_node\n",
    "            \n",
    "        new_elem.next_node = curr.next_node\n",
    "        curr.next_node = new_elem\n",
    "        self.size +=1"
   ]
  },
  {
   "cell_type": "code",
   "execution_count": null,
   "id": "2d36e64e",
   "metadata": {},
   "outputs": [],
   "source": [
    "def reverse(head):\n",
    "    if head == None:\n",
    "        return None\n",
    "    return recursive_reverse(None, head)\n",
    "\n",
    "def recursive_reverse(prev, curr):\n",
    "    head = curr\n",
    "    if curr.next_node != None:\n",
    "        head = recursive_reverse(curr, curr.next_node)\n",
    "    curr.next_node = prev\n",
    "    return head"
   ]
  },
  {
   "cell_type": "code",
   "execution_count": null,
   "id": "987d500a",
   "metadata": {},
   "outputs": [],
   "source": [
    "def cycle(head):\n",
    "    if head == None:\n",
    "        return False\n",
    "    \n",
    "    step = 1\n",
    "    current = head\n",
    "    \n",
    "    while True:\n",
    "        next_node = current\n",
    "        for i in range(step):\n",
    "            if current.next == None: \n",
    "                return False\n",
    "            next_node = next_node.next\n",
    "            if current == next_node:\n",
    "                return True\n",
    "        current = next_node\n",
    "        steps *= 2"
   ]
  },
  {
   "cell_type": "markdown",
   "id": "e08bd8f3",
   "metadata": {},
   "source": [
    "## Работаем с классами"
   ]
  },
  {
   "cell_type": "code",
   "execution_count": 2,
   "id": "1980bd5b",
   "metadata": {},
   "outputs": [
    {
     "name": "stdout",
     "output_type": "stream",
     "text": [
      "Обычная газировка\n"
     ]
    }
   ],
   "source": [
    "# Exercise 1.\n",
    "class Soda():\n",
    "    def __init__(self, topping=None):\n",
    "        self.topping = topping\n",
    "    def show_my_drink(self):\n",
    "        if self.topping == None:\n",
    "            print('Обычная газировка')\n",
    "        else:\n",
    "            print(f'ГАЗИРОВКА И {self.topping}')\n",
    "#можно задать добавку через isinstance(topping, str)\n",
    "soda = Soda('lavender')\n",
    "soda.show_my_drink()"
   ]
  },
  {
   "cell_type": "code",
   "execution_count": 3,
   "id": "2c65fb58",
   "metadata": {},
   "outputs": [
    {
     "name": "stdout",
     "output_type": "stream",
     "text": [
      "Ты треугольник из букв хочешь построить, еблан?\n"
     ]
    }
   ],
   "source": [
    "class TriangleChecker():\n",
    "    def __init__(self, sides):\n",
    "        self.sides = sides\n",
    "    def is_triangle(self):\n",
    "        if all(isinstance(side, (int, float)) for side in self.sides):\n",
    "            if all(side > 0 for side in self.sides):\n",
    "                sorted_sides = sorted(self.sides)\n",
    "                if sorted_sides[0] + sorted_sides[1] > sorted_sides[2]:\n",
    "                    return 'Все круто'\n",
    "                return 'Не получится, чел'\n",
    "            return 'Как ты себе представляешь треугольник с отрицательными сторонами?'\n",
    "        return 'Ты треугольник из букв хочешь построить, еблан?'\n",
    "    \n",
    "triangle = TriangleChecker(['a', 1, 4])\n",
    "print(triangle.is_triangle())"
   ]
  },
  {
   "cell_type": "code",
   "execution_count": 6,
   "id": "8f3f18e5",
   "metadata": {},
   "outputs": [
    {
     "name": "stdout",
     "output_type": "stream",
     "text": [
      "6\n"
     ]
    }
   ],
   "source": [
    "class KgToPounds:\n",
    "    def __init__(self, kg):\n",
    "        self.__kg = kg\n",
    "\n",
    "    def to_pounds(self):\n",
    "        return self.__kg * 2.205\n",
    "\n",
    "    def __set_kg(self, new_kg):\n",
    "        if isinstance(new_kg, (int, float)):\n",
    "            self.__kg = new_kg\n",
    "        else:\n",
    "            raise ValueError('Килограммы задаются только числами')\n",
    "\n",
    "    def __get_kg(self):\n",
    "        return self.__kg\n",
    "\n",
    "    kg = property(__get_kg, __set_kg)\n",
    "    \n",
    "weight = KgToPounds(4)\n",
    "weight.kg = 6\n",
    "print(weight.kg)"
   ]
  },
  {
   "cell_type": "code",
   "execution_count": 7,
   "id": "fa545f42",
   "metadata": {},
   "outputs": [],
   "source": [
    "class Nicola:\n",
    "    __slots__ = ['name', 'age']\n",
    "    \n",
    "    def __init__(self, name, age):\n",
    "        self.name = name\n",
    "        if self.name != 'Николай':\n",
    "            self.name = f'Я не {name}, а Николай!'\n",
    "        self.age = age"
   ]
  },
  {
   "cell_type": "code",
   "execution_count": null,
   "id": "6a4a7631",
   "metadata": {},
   "outputs": [],
   "source": []
  }
 ],
 "metadata": {
  "kernelspec": {
   "display_name": "Python 3 (ipykernel)",
   "language": "python",
   "name": "python3"
  },
  "language_info": {
   "codemirror_mode": {
    "name": "ipython",
    "version": 3
   },
   "file_extension": ".py",
   "mimetype": "text/x-python",
   "name": "python",
   "nbconvert_exporter": "python",
   "pygments_lexer": "ipython3",
   "version": "3.9.7"
  }
 },
 "nbformat": 4,
 "nbformat_minor": 5
}
